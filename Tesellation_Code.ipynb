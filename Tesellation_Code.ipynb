{
 "cells": [
  {
   "cell_type": "code",
   "execution_count": 1,
   "metadata": {},
   "outputs": [],
   "source": [
    "import os\n",
    "import sys\n",
    "import PIL\n",
    "import numpy as np\n",
    "from PIL import Image\n",
    "import rioxarray\n",
    "from tifffile import imread\n",
    "Image.MAX_IMAGE_PIXELS = None\n",
    "\n",
    "actual_path = os.getcwd()\n",
    "os.chdir(actual_path)\n",
    "\n",
    "def tesellation(number_tif, cropped_size):\n",
    "    filename_image = f\"images/tif_big/real_images/INDIANA_{number_tif}_AOI.tif\"\n",
    "    filename_mask = f\"images/tif_big/mask/INDIANA{number_tif}_MASK.tif\"\n",
    "    save_dir_image = f\"images/real_img/TIF_{number_tif}/\"\n",
    "    save_dir_mask = f\"images/mask/TIF_{number_tif}/\"\n",
    "\n",
    "    img = Image.open(filename_image)\n",
    "    width, height = img.size\n",
    "    start_pos = start_x, start_y = (0, 0)\n",
    "    cropped_image_size = w, h = (cropped_size,cropped_size)\n",
    "    \n",
    "    frame_num = 1\n",
    "    \n",
    "    for col_i in range(0, width, w):\n",
    "        for row_i in range(0, height, h):\n",
    "            crop = img.crop((col_i, row_i, col_i + w, row_i + h))\n",
    "            save_to= os.path.join(save_dir_image + \"{:1}.png\")\n",
    "            crop.convert('RGB').save(save_to.format(frame_num))\n",
    "            print(frame_num, end='\\r', flush=True)\n",
    "            frame_num += 1\n",
    "    print('number of img chips of ' + str(w) + 'x' + str(h) + \n",
    "        ' produced were:', frame_num-1)\n",
    "\n",
    "    img = Image.open(filename_mask)\n",
    "\n",
    "    width, height = img.size\n",
    "    start_pos = start_x, start_y = (0, 0)\n",
    "\n",
    "    frame_num = 1\n",
    "    for col_i in range(0, width, w):\n",
    "        for row_i in range(0, height, h):\n",
    "            crop = img.crop((col_i, row_i, col_i + w, row_i + h))\n",
    "            save_to= os.path.join(save_dir_mask + \"{:1}.png\")\n",
    "            crop.save(save_to.format(frame_num))\n",
    "            print(frame_num, end='\\r', flush=True)\n",
    "            frame_num += 1\n",
    "    print('number of msk chips of ' + str(w) + 'x' + str(h) + \n",
    "        ' produced were:', frame_num-1)"
   ]
  },
  {
   "attachments": {},
   "cell_type": "markdown",
   "metadata": {},
   "source": [
    "## **INDIANA_TIF_1**"
   ]
  },
  {
   "cell_type": "code",
   "execution_count": 2,
   "metadata": {},
   "outputs": [
    {
     "name": "stdout",
     "output_type": "stream",
     "text": [
      "number of img chips of 256x256 produced were: 14946\n",
      "number of msk chips of 256x256 produced were: 14946\n"
     ]
    }
   ],
   "source": [
    "tesellation(1, 256)"
   ]
  },
  {
   "attachments": {},
   "cell_type": "markdown",
   "metadata": {},
   "source": [
    "## **INDIANA_TIF_2**"
   ]
  },
  {
   "cell_type": "code",
   "execution_count": 2,
   "metadata": {},
   "outputs": [
    {
     "name": "stdout",
     "output_type": "stream",
     "text": [
      "number of img chips of 256x256 produced were: 13527\n",
      "number of msk chips of 256x256 produced were: 13527\n"
     ]
    }
   ],
   "source": [
    "tesellation(2, 256)"
   ]
  },
  {
   "attachments": {},
   "cell_type": "markdown",
   "metadata": {},
   "source": [
    "## **INDIANA_TIF_3**"
   ]
  },
  {
   "cell_type": "code",
   "execution_count": 2,
   "metadata": {},
   "outputs": [
    {
     "name": "stdout",
     "output_type": "stream",
     "text": [
      "number of img chips of 256x256 produced were: 7085\n",
      "number of msk chips of 256x256 produced were: 7085\n"
     ]
    }
   ],
   "source": [
    "tesellation(3, 256)"
   ]
  },
  {
   "attachments": {},
   "cell_type": "markdown",
   "metadata": {},
   "source": [
    "## **INDIANA_TIF_4**"
   ]
  },
  {
   "cell_type": "code",
   "execution_count": 2,
   "metadata": {},
   "outputs": [
    {
     "name": "stdout",
     "output_type": "stream",
     "text": [
      "number of img chips of 256x256 produced were: 30294\n",
      "number of msk chips of 256x256 produced were: 30294\n"
     ]
    }
   ],
   "source": [
    "tesellation(4, 256)"
   ]
  },
  {
   "attachments": {},
   "cell_type": "markdown",
   "metadata": {},
   "source": [
    "## **Imbalance Check**"
   ]
  },
  {
   "cell_type": "code",
   "execution_count": 1,
   "metadata": {},
   "outputs": [],
   "source": [
    "import cv2\n",
    "import numpy as np\n",
    "import os\n",
    "\n",
    "def imbalance_check(number_tif):\n",
    "    save_dir_image = f\"images/real_img/TIF_{number_tif}/\"\n",
    "    save_dir_mask = f\"images/mask/TIF_{number_tif}/\"\n",
    "\n",
    "    count = 0\n",
    "    imb = 10\n",
    "    \n",
    "\n",
    "    print(\"Total files in folder: \", len(os.listdir(save_dir_mask)))\n",
    "    tot_imgs = len(os.listdir(save_dir_mask))\n",
    "\n",
    "    for filename in (os.listdir(save_dir_mask)):\n",
    "        #img = Image.open(path + '\\\\' + filename)\n",
    "        img = cv2.imread(save_dir_mask + '/' + filename, cv2.IMREAD_GRAYSCALE)\n",
    "        n_white_pix = np.sum(img > 0)\n",
    "        n_black_pix = np.sum(img == 0)\n",
    "        if (n_white_pix/n_black_pix)*100 < imb:\n",
    "            count = count + 1\n",
    "            os.remove(save_dir_mask + '/' + filename)\n",
    "            os.remove(save_dir_image + '/' + filename)\n",
    "    print(\"-> deleted img-msk: \", count)\n",
    "    print(\"-> remaining img-msk: \", (tot_imgs-count))"
   ]
  },
  {
   "cell_type": "markdown",
   "metadata": {},
   "source": [
    "## **INDIANA_TIF_1**"
   ]
  },
  {
   "cell_type": "code",
   "execution_count": 2,
   "metadata": {},
   "outputs": [
    {
     "name": "stdout",
     "output_type": "stream",
     "text": [
      "Total files in folder:  14946\n"
     ]
    },
    {
     "name": "stderr",
     "output_type": "stream",
     "text": [
      "C:\\Users\\Mateo\\AppData\\Local\\Temp\\ipykernel_7392\\4025059144.py:21: RuntimeWarning: divide by zero encountered in scalar divide\n",
      "  if (n_white_pix/n_black_pix)*100 < imb:\n"
     ]
    },
    {
     "name": "stdout",
     "output_type": "stream",
     "text": [
      "-> deleted img-msk:  14440\n",
      "-> remaining img-msk:  506\n"
     ]
    }
   ],
   "source": [
    "imbalance_check(1)"
   ]
  },
  {
   "cell_type": "markdown",
   "metadata": {},
   "source": [
    "## **INDIANA_TIF_2**"
   ]
  },
  {
   "cell_type": "code",
   "execution_count": 2,
   "metadata": {},
   "outputs": [
    {
     "name": "stdout",
     "output_type": "stream",
     "text": [
      "Total files in folder:  13527\n"
     ]
    },
    {
     "name": "stderr",
     "output_type": "stream",
     "text": [
      "C:\\Users\\Mateo\\AppData\\Local\\Temp\\ipykernel_1172\\4025059144.py:21: RuntimeWarning: divide by zero encountered in scalar divide\n",
      "  if (n_white_pix/n_black_pix)*100 < imb:\n"
     ]
    },
    {
     "name": "stdout",
     "output_type": "stream",
     "text": [
      "-> deleted img-msk:  12639\n",
      "-> remaining img-msk:  888\n"
     ]
    }
   ],
   "source": [
    "imbalance_check(2)"
   ]
  },
  {
   "cell_type": "markdown",
   "metadata": {},
   "source": [
    "## **INDIANA_TIF_3**"
   ]
  },
  {
   "cell_type": "code",
   "execution_count": 3,
   "metadata": {},
   "outputs": [
    {
     "name": "stdout",
     "output_type": "stream",
     "text": [
      "Total files in folder:  7085\n"
     ]
    },
    {
     "name": "stderr",
     "output_type": "stream",
     "text": [
      "C:\\Users\\Mateo\\AppData\\Local\\Temp\\ipykernel_4316\\4025059144.py:21: RuntimeWarning: divide by zero encountered in scalar divide\n",
      "  if (n_white_pix/n_black_pix)*100 < imb:\n"
     ]
    },
    {
     "name": "stdout",
     "output_type": "stream",
     "text": [
      "-> deleted img-msk:  6427\n",
      "-> remaining img-msk:  658\n"
     ]
    }
   ],
   "source": [
    "imbalance_check(3)"
   ]
  },
  {
   "cell_type": "markdown",
   "metadata": {},
   "source": [
    "## **INDIANA_TIF_4**"
   ]
  },
  {
   "cell_type": "code",
   "execution_count": 2,
   "metadata": {},
   "outputs": [
    {
     "name": "stdout",
     "output_type": "stream",
     "text": [
      "Total files in folder:  30294\n"
     ]
    },
    {
     "name": "stderr",
     "output_type": "stream",
     "text": [
      "C:\\Users\\Mateo\\AppData\\Local\\Temp\\ipykernel_5500\\4025059144.py:21: RuntimeWarning: divide by zero encountered in scalar divide\n",
      "  if (n_white_pix/n_black_pix)*100 < imb:\n"
     ]
    },
    {
     "name": "stdout",
     "output_type": "stream",
     "text": [
      "-> deleted img-msk:  28780\n",
      "-> remaining img-msk:  1514\n"
     ]
    }
   ],
   "source": [
    "imbalance_check(4)"
   ]
  },
  {
   "attachments": {},
   "cell_type": "markdown",
   "metadata": {},
   "source": [
    "## **Rename**"
   ]
  },
  {
   "cell_type": "code",
   "execution_count": 1,
   "metadata": {},
   "outputs": [],
   "source": [
    "import cv2\n",
    "import numpy as np\n",
    "import os\n",
    "\n",
    "def rename_images(number_tif):\n",
    "    save_dir_image = f\"images/real_img/TIF_{number_tif}/\"\n",
    "    save_dir_mask = f\"images/mask/TIF_{number_tif}/\"\n",
    "\n",
    "    i = 1\n",
    "    for item in os.listdir(save_dir_image):\n",
    "        if item.endswith('.png'):\n",
    "            os.rename(os.path.join(save_dir_image,item),os.path.join(save_dir_image,(str(i)+'w'+'.png')))\n",
    "            #os.rename(os.path.join(mysource,item),os.path.join(mysource,(str(i)+'w'+'.tif')))\n",
    "            #os.rename(os.path.join(mysource,item),os.path.join(mysource,(str(i)+'.png')))\n",
    "            i += 1\n",
    "            print('-> Renamed:', i, end='\\r', flush=True)\n",
    "    print(\"El numero de imagenes renombradas es de:\", i-1)\n",
    "\n",
    "    j = 1\n",
    "    for item in os.listdir(save_dir_mask):\n",
    "        if item.endswith('.png'):\n",
    "            os.rename(os.path.join(save_dir_mask,item),os.path.join(save_dir_mask,(str(j)+'w'+'.png')))\n",
    "            #os.rename(os.path.join(mysource2,item),os.path.join(mysource2,(str(j)+'w'+'.tif')))\n",
    "            #os.rename(os.path.join(mysource2,item),os.path.join(mysource2,(str(j)+'.png')))\n",
    "            j += 1\n",
    "            print('-> Renamed:', j, end='\\r', flush=True)\n",
    "    print(\"El numero de mascaras renombradas es de:\", j-1)"
   ]
  },
  {
   "cell_type": "markdown",
   "metadata": {},
   "source": [
    "## **INDIANA_TIF_1**"
   ]
  },
  {
   "cell_type": "code",
   "execution_count": 3,
   "metadata": {},
   "outputs": [
    {
     "name": "stdout",
     "output_type": "stream",
     "text": [
      "El numero de imagenes renombradas es de: 5063 118 126 135 141 145 149 162 165 173 176 185 194 199 212 215 223 231 244 248 252 256 275 289 309 313 318 322 350 371 394 404 412 415 419 441 442 453 460 463 477 480\n",
      "El numero de mascaras renombradas es de: 5064 117 122 127 135 140 148 152 166 172 178 187 212 219 234 248 251 279 287 298 299 303 307 324 335 348 350 367 368 372 384 389 419 436 446 450 453 457 469 486 490 494\n"
     ]
    }
   ],
   "source": [
    "rename_images(1)"
   ]
  },
  {
   "cell_type": "markdown",
   "metadata": {},
   "source": [
    "## **INDIANA_TIF_2**"
   ]
  },
  {
   "cell_type": "code",
   "execution_count": 2,
   "metadata": {},
   "outputs": [
    {
     "name": "stdout",
     "output_type": "stream",
     "text": [
      "El numero de imagenes renombradas es de: 88821 125 134 137 139 143 151 159 174 185 192 201 213 230 239 250 254 259 263 279 282 334 344 348 354 361 378 382 383 394 398 402 438 457 460 472 518 525 530 538 542 546 561 565 569 571 573 589 590 606 631 636 640 641 644 651 671 677 691 700 702 708 717 720 723 728 732 736 737 738 746 754 767 771 782 796 805 806 810 823 827 835 838 853 854 871\n",
      "El numero de mascaras renombradas es de: 88821 125 129 172 193 198 216 225 227 264 300 313 346 358 362 373 378 391 411 413 429 436 447 459 465 475 484 487 491 495 499 501 503 508 518 522 526 555 559 571 590 597 606 607 609 623 640 643 658 669 673 675 695 711 734 738 750 753 765 784 787 790 798 805 819 823 830 834 846 852 861\n"
     ]
    }
   ],
   "source": [
    "rename_images(2)"
   ]
  },
  {
   "cell_type": "markdown",
   "metadata": {},
   "source": [
    "## **INDIANA_TIF_3**"
   ]
  },
  {
   "cell_type": "code",
   "execution_count": 2,
   "metadata": {},
   "outputs": [
    {
     "name": "stdout",
     "output_type": "stream",
     "text": [
      "El numero de imagenes renombradas es de: 65812 116 120 124 135 145 160 164 172 173 182 187 189 190 194 198 206 214 223 226 239 248 253 258 262 271 277 281 289 295 303 342 355 357 371 373 376 386 393 401 405 406 410 414 422 438 439 454 471 506 512 566 568 581 594 611 617 624 628 649 657\n",
      "El numero de mascaras renombradas es de: 658 78 99 127 130 140 143 163 165 183 187 199 201 231 235 255 256 260 313 317 322 333 338 352 353 355 395 409 411 418 436 446 463 469 472 474 483 506 510 538 539 543 547 549 551 556 563 579 581 589 593 597 600 603 606 610 614 629 639 653 658\n"
     ]
    }
   ],
   "source": [
    "rename_images(3)"
   ]
  },
  {
   "cell_type": "markdown",
   "metadata": {},
   "source": [
    "## **INDIANA_TIF_4**"
   ]
  },
  {
   "cell_type": "code",
   "execution_count": 2,
   "metadata": {},
   "outputs": [
    {
     "name": "stdout",
     "output_type": "stream",
     "text": [
      "El numero de imagenes renombradas es de: 1514102 118 124 129 139 144 147 150 159 170 179 180 187 191 200 204 213 217 220 249 253 258 261 268 272 295 302 307 311 317 350 366 382 414 419 424 437 446 457 481 501 506 508 521 526 542 543 557 561 564 573 579 581 585 593 595 596 600 625 630 631 639 646 676 680 704 712 715 721 724 725 742 778 788 796 806 810 839 840 847 856 882 885 889 894 902 906 917 918 933 936 954 972 973 978 1003 1006 1025 1029 1033 1042 1063 1070 1074 1079 1094 1125 1138 1143 1147 1167 1171 1189 1203 1212 1213 1215 1217 1221 1225 1229 1235 1236 1239 1255 1264 1269 1274 1278 1282 1308 1312 1329 1334 1337 1346 1358 1362 1379 1383 1385 1390 1395 1399 1403 1410 1415 1421 1423 1438 1472 1476 1489 1507 1511 1514\n",
      "El numero de mascaras renombradas es de: 15141 152 157 170 175 183 195 211 238 239 256 275 277 285 289 312 315 320 324 330 338 349 365 368 383 403 409 414 425 433 442 447 461 462 466 471 486 489 527 546 548 573 577 581 605 616 624 637 642 644 651 658 672 676 680 684 700 703 712 756 799 801 823 836 840 841 844 848 879 882 930 949 968 977 983 989 997 1015 1019 1032 1034 1049 1067 1085 1124 1138 1150 1157 1166 1171 1176 1181 1182 1186 1192 1221 1224 1232 1255 1274 1291 1292 1296 1309 1310 1335 1344 1347 1390 1400 1405 1431 1437 1462 1466 1472 1477 1481 1485 1504 1505 1508\n"
     ]
    }
   ],
   "source": [
    "rename_images(4)"
   ]
  },
  {
   "attachments": {},
   "cell_type": "markdown",
   "metadata": {},
   "source": [
    "## **Comprobacion de vegetacion y lineas**"
   ]
  },
  {
   "cell_type": "code",
   "execution_count": 1,
   "metadata": {},
   "outputs": [],
   "source": [
    "import cv2\n",
    "import numpy as np\n",
    "import os\n",
    "\n",
    "def check_vegetation_lines(number_tif):\n",
    "    save_dir_image = f\"images/real_img/TIF_{number_tif}/\"\n",
    "    save_dir_mask = f\"images/mask/TIF_{number_tif}/\"\n",
    "\n",
    "    count = 0\n",
    "    imb = 10\n",
    "    \n",
    "\n",
    "    print(\"Total files in folder: \", len(os.listdir(save_dir_mask)))\n",
    "    tot_imgs = len(os.listdir(save_dir_mask))\n",
    "\n",
    "    for filename in (os.listdir(save_dir_mask)):\n",
    "        img = cv2.imread(save_dir_mask + '/' + filename)\n",
    "        # Buscar píxeles con valores de verde y gris\n",
    "        green_pixels = np.count_nonzero(img == 255)  # 255 es el valor de verde en escala de grises\n",
    "        gray_pixels = np.count_nonzero(img == 110)  # 110 es el valor de gris en escala de grises\n",
    "\n",
    "        # Comprobar si la imagen cumple la condición\n",
    "        if green_pixels == 0 or gray_pixels == 0:\n",
    "            count = count + 1\n",
    "            os.remove(save_dir_mask + '/' + filename)\n",
    "            os.remove(save_dir_image + '/' + filename)\n",
    "    print(\"-> deleted img-msk: \", count)\n",
    "    print(\"-> remaining img-msk: \", (tot_imgs-count))"
   ]
  },
  {
   "cell_type": "markdown",
   "metadata": {},
   "source": [
    "## **INDIANA_TIF_1**"
   ]
  },
  {
   "cell_type": "code",
   "execution_count": 2,
   "metadata": {},
   "outputs": [
    {
     "name": "stdout",
     "output_type": "stream",
     "text": [
      "Total files in folder:  506\n",
      "-> deleted img-msk:  391\n",
      "-> remaining img-msk:  115\n"
     ]
    }
   ],
   "source": [
    "check_vegetation_lines(1)"
   ]
  },
  {
   "cell_type": "markdown",
   "metadata": {},
   "source": [
    "## **INDIANA_TIF_2**"
   ]
  },
  {
   "cell_type": "code",
   "execution_count": 2,
   "metadata": {},
   "outputs": [
    {
     "name": "stdout",
     "output_type": "stream",
     "text": [
      "Total files in folder:  888\n",
      "-> deleted img-msk:  722\n",
      "-> remaining img-msk:  166\n"
     ]
    }
   ],
   "source": [
    "check_vegetation_lines(2)"
   ]
  },
  {
   "cell_type": "markdown",
   "metadata": {},
   "source": [
    "## **INDIANA_TIF_3**"
   ]
  },
  {
   "cell_type": "code",
   "execution_count": 4,
   "metadata": {},
   "outputs": [
    {
     "name": "stdout",
     "output_type": "stream",
     "text": [
      "Total files in folder:  658\n",
      "-> deleted img-msk:  564\n",
      "-> remaining img-msk:  94\n"
     ]
    }
   ],
   "source": [
    "check_vegetation_lines(3)"
   ]
  },
  {
   "cell_type": "markdown",
   "metadata": {},
   "source": [
    "## **INDIANA_TIF_4**"
   ]
  },
  {
   "cell_type": "code",
   "execution_count": 2,
   "metadata": {},
   "outputs": [
    {
     "name": "stdout",
     "output_type": "stream",
     "text": [
      "Total files in folder:  1514\n",
      "-> deleted img-msk:  1357\n",
      "-> remaining img-msk:  157\n"
     ]
    }
   ],
   "source": [
    "check_vegetation_lines(4)"
   ]
  }
 ],
 "metadata": {
  "kernelspec": {
   "display_name": "Python 3.10.5 ('venv')",
   "language": "python",
   "name": "python3"
  },
  "language_info": {
   "codemirror_mode": {
    "name": "ipython",
    "version": 3
   },
   "file_extension": ".py",
   "mimetype": "text/x-python",
   "name": "python",
   "nbconvert_exporter": "python",
   "pygments_lexer": "ipython3",
   "version": "3.10.5"
  },
  "orig_nbformat": 4,
  "vscode": {
   "interpreter": {
    "hash": "14df3589977874f0e03afb7bd5dc51aa9e523fba4f47e37972981b0cbab3ffb3"
   }
  }
 },
 "nbformat": 4,
 "nbformat_minor": 2
}
