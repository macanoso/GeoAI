{
 "cells": [
  {
   "cell_type": "code",
   "execution_count": 21,
   "metadata": {},
   "outputs": [],
   "source": [
    "import os\n",
    "import sys\n",
    "from PIL import Image\n",
    "Image.MAX_IMAGE_PIXELS = None\n",
    "\n",
    "actual_path = os.getcwd()\n",
    "os.chdir(actual_path)\n",
    "\n",
    "def tesellation(number_tif, cropped_size):\n",
    "    filename_image = f\"images/tif_big/real_images/INDIANA_{number_tif}_AOI.tif\"\n",
    "    filename_mask = f\"images/tif_big/mask/INDIANA{number_tif}_MASK.tif\"\n",
    "    save_dir_image = f\"images/real_img/TIF_{number_tif}/\"\n",
    "    save_dir_mask = f\"images/mask/TIF_{number_tif}/\"\n",
    "\n",
    "    img = Image.open(filename_image)\n",
    "    width, height = img.size\n",
    "    start_pos = start_x, start_y = (0, 0)\n",
    "    cropped_image_size = w, h = (cropped_size,cropped_size)\n",
    "    \n",
    "    frame_num = 1\n",
    "    \n",
    "    for col_i in range(0, width, w):\n",
    "        for row_i in range(0, height, h):\n",
    "            crop = img.crop((col_i, row_i, col_i + w, row_i + h))\n",
    "            save_to= os.path.join(save_dir_image + \"{:1}.png\")\n",
    "            crop.convert('RGB').save(save_to.format(frame_num))\n",
    "            print(frame_num, end='\\r', flush=True)\n",
    "            frame_num += 1\n",
    "    print('number of img chips of ' + str(w) + 'x' + str(h) + \n",
    "        ' produced were:', frame_num-1)\n",
    "\n",
    "    img = Image.open(filename_mask)\n",
    "    width, height = img.size\n",
    "    start_pos = start_x, start_y = (0, 0)\n",
    "\n",
    "    frame_num = 1\n",
    "    for col_i in range(0, width, w):\n",
    "        for row_i in range(0, height, h):\n",
    "            crop = img.crop((col_i, row_i, col_i + w, row_i + h))\n",
    "            save_to= os.path.join(save_dir_mask + \"{:1}.png\")\n",
    "            crop.save(save_to.format(frame_num))\n",
    "            print(frame_num, end='\\r', flush=True)\n",
    "            frame_num += 1\n",
    "    print('number of msk chips of ' + str(w) + 'x' + str(h) + \n",
    "        ' produced were:', frame_num-1)"
   ]
  },
  {
   "cell_type": "code",
   "execution_count": 22,
   "metadata": {},
   "outputs": [
    {
     "ename": "UnidentifiedImageError",
     "evalue": "cannot identify image file 'images/tif_big/real_images/INDIANA_3_AOI.tif'",
     "output_type": "error",
     "traceback": [
      "\u001b[1;31m---------------------------------------------------------------------------\u001b[0m",
      "\u001b[1;31mUnidentifiedImageError\u001b[0m                    Traceback (most recent call last)",
      "Cell \u001b[1;32mIn[22], line 1\u001b[0m\n\u001b[1;32m----> 1\u001b[0m tesellation(\u001b[39m3\u001b[39;49m, \u001b[39m256\u001b[39;49m)\n",
      "Cell \u001b[1;32mIn[21], line 15\u001b[0m, in \u001b[0;36mtesellation\u001b[1;34m(number_tif, cropped_size)\u001b[0m\n\u001b[0;32m     12\u001b[0m save_dir_image \u001b[39m=\u001b[39m \u001b[39mf\u001b[39m\u001b[39m\"\u001b[39m\u001b[39mimages/real_img/TIF_\u001b[39m\u001b[39m{\u001b[39;00mnumber_tif\u001b[39m}\u001b[39;00m\u001b[39m/\u001b[39m\u001b[39m\"\u001b[39m\n\u001b[0;32m     13\u001b[0m save_dir_mask \u001b[39m=\u001b[39m \u001b[39mf\u001b[39m\u001b[39m\"\u001b[39m\u001b[39mimages/mask/TIF_\u001b[39m\u001b[39m{\u001b[39;00mnumber_tif\u001b[39m}\u001b[39;00m\u001b[39m/\u001b[39m\u001b[39m\"\u001b[39m\n\u001b[1;32m---> 15\u001b[0m img \u001b[39m=\u001b[39m Image\u001b[39m.\u001b[39;49mopen(filename_image)\n\u001b[0;32m     16\u001b[0m width, height \u001b[39m=\u001b[39m img\u001b[39m.\u001b[39msize\n\u001b[0;32m     17\u001b[0m start_pos \u001b[39m=\u001b[39m start_x, start_y \u001b[39m=\u001b[39m (\u001b[39m0\u001b[39m, \u001b[39m0\u001b[39m)\n",
      "File \u001b[1;32mc:\\Users\\Mateo\\AppData\\Local\\pypoetry\\Cache\\virtualenvs\\geoai_vegetation_encroachment-YqaE4ZDg-py3.10\\lib\\site-packages\\PIL\\Image.py:3283\u001b[0m, in \u001b[0;36mopen\u001b[1;34m(fp, mode, formats)\u001b[0m\n\u001b[0;32m   3281\u001b[0m     warnings\u001b[39m.\u001b[39mwarn(message)\n\u001b[0;32m   3282\u001b[0m msg \u001b[39m=\u001b[39m \u001b[39m\"\u001b[39m\u001b[39mcannot identify image file \u001b[39m\u001b[39m%r\u001b[39;00m\u001b[39m\"\u001b[39m \u001b[39m%\u001b[39m (filename \u001b[39mif\u001b[39;00m filename \u001b[39melse\u001b[39;00m fp)\n\u001b[1;32m-> 3283\u001b[0m \u001b[39mraise\u001b[39;00m UnidentifiedImageError(msg)\n",
      "\u001b[1;31mUnidentifiedImageError\u001b[0m: cannot identify image file 'images/tif_big/real_images/INDIANA_3_AOI.tif'"
     ]
    }
   ],
   "source": [
    "tesellation(3, 256)"
   ]
  },
  {
   "cell_type": "code",
   "execution_count": 16,
   "metadata": {},
   "outputs": [
    {
     "name": "stderr",
     "output_type": "stream",
     "text": [
      "\"ls\" no se reconoce como un comando interno o externo,\n",
      "programa o archivo por lotes ejecutable.\n"
     ]
    }
   ],
   "source": []
  },
  {
   "cell_type": "code",
   "execution_count": null,
   "metadata": {},
   "outputs": [],
   "source": []
  }
 ],
 "metadata": {
  "kernelspec": {
   "display_name": "Python 3.10.5 ('venv')",
   "language": "python",
   "name": "python3"
  },
  "language_info": {
   "codemirror_mode": {
    "name": "ipython",
    "version": 3
   },
   "file_extension": ".py",
   "mimetype": "text/x-python",
   "name": "python",
   "nbconvert_exporter": "python",
   "pygments_lexer": "ipython3",
   "version": "3.10.5"
  },
  "orig_nbformat": 4,
  "vscode": {
   "interpreter": {
    "hash": "14df3589977874f0e03afb7bd5dc51aa9e523fba4f47e37972981b0cbab3ffb3"
   }
  }
 },
 "nbformat": 4,
 "nbformat_minor": 2
}
