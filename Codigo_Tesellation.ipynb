{
 "cells": [
  {
   "cell_type": "code",
   "execution_count": 1,
   "metadata": {},
   "outputs": [],
   "source": [
    "import os\n",
    "import sys\n",
    "import PIL\n",
    "import numpy as np\n",
    "from PIL import Image\n",
    "import rioxarray\n",
    "from tifffile import imread\n",
    "Image.MAX_IMAGE_PIXELS = None\n",
    "\n",
    "actual_path = os.getcwd()\n",
    "os.chdir(actual_path)\n",
    "\n",
    "def tesellation(number_tif, cropped_size):\n",
    "    filename_image = f\"images/tif_big/real_images/INDIANA_{number_tif}_AOI.tif\"\n",
    "    filename_mask = f\"images/tif_big/mask/INDIANA{number_tif}_MASK.tif\"\n",
    "    save_dir_image = f\"images/real_img/TIF_{number_tif}/\"\n",
    "    save_dir_mask = f\"images/mask/TIF_{number_tif}/\"\n",
    "\n",
    "    img = Image.open(filename_image)\n",
    "    width, height = img.size\n",
    "    start_pos = start_x, start_y = (0, 0)\n",
    "    cropped_image_size = w, h = (cropped_size,cropped_size)\n",
    "    \n",
    "    frame_num = 1\n",
    "    \n",
    "    for col_i in range(0, width, w):\n",
    "        for row_i in range(0, height, h):\n",
    "            crop = img.crop((col_i, row_i, col_i + w, row_i + h))\n",
    "            save_to= os.path.join(save_dir_image + \"{:1}.png\")\n",
    "            crop.convert('RGB').save(save_to.format(frame_num))\n",
    "            print(frame_num, end='\\r', flush=True)\n",
    "            frame_num += 1\n",
    "    print('number of img chips of ' + str(w) + 'x' + str(h) + \n",
    "        ' produced were:', frame_num-1)\n",
    "\n",
    "    img = Image.open(filename_mask)\n",
    "\n",
    "    width, height = img.size\n",
    "    start_pos = start_x, start_y = (0, 0)\n",
    "\n",
    "    frame_num = 1\n",
    "    for col_i in range(0, width, w):\n",
    "        for row_i in range(0, height, h):\n",
    "            crop = img.crop((col_i, row_i, col_i + w, row_i + h))\n",
    "            save_to= os.path.join(save_dir_mask + \"{:1}.png\")\n",
    "            crop.save(save_to.format(frame_num))\n",
    "            print(frame_num, end='\\r', flush=True)\n",
    "            frame_num += 1\n",
    "    print('number of msk chips of ' + str(w) + 'x' + str(h) + \n",
    "        ' produced were:', frame_num-1)"
   ]
  },
  {
   "attachments": {},
   "cell_type": "markdown",
   "metadata": {},
   "source": [
    "## **INDIANA_TIF_1**"
   ]
  },
  {
   "cell_type": "code",
   "execution_count": null,
   "metadata": {},
   "outputs": [
    {
     "name": "stdout",
     "output_type": "stream",
     "text": [
      "number of img chips of 256x256 produced were: 13527\n",
      "number of msk chips of 256x256 produced were: 13527\n"
     ]
    }
   ],
   "source": [
    "tesellation(1, 256)"
   ]
  },
  {
   "attachments": {},
   "cell_type": "markdown",
   "metadata": {},
   "source": [
    "## **INDIANA_TIF_2**"
   ]
  },
  {
   "cell_type": "code",
   "execution_count": 6,
   "metadata": {},
   "outputs": [
    {
     "name": "stdout",
     "output_type": "stream",
     "text": [
      "number of img chips of 256x256 produced were: 13527\n",
      "number of msk chips of 256x256 produced were: 13527\n"
     ]
    }
   ],
   "source": [
    "tesellation(2, 256)"
   ]
  },
  {
   "attachments": {},
   "cell_type": "markdown",
   "metadata": {},
   "source": [
    "## **INDIANA_TIF_3**"
   ]
  },
  {
   "cell_type": "code",
   "execution_count": 7,
   "metadata": {},
   "outputs": [
    {
     "name": "stdout",
     "output_type": "stream",
     "text": [
      "number of img chips of 256x256 produced were: 7085\n",
      "number of msk chips of 256x256 produced were: 7085\n"
     ]
    }
   ],
   "source": [
    "tesellation(3, 256)"
   ]
  },
  {
   "attachments": {},
   "cell_type": "markdown",
   "metadata": {},
   "source": [
    "## **INDIANA_TIF_4**"
   ]
  },
  {
   "cell_type": "code",
   "execution_count": 6,
   "metadata": {},
   "outputs": [
    {
     "name": "stdout",
     "output_type": "stream",
     "text": [
      "number of img chips of 256x256 produced were: 30294\n",
      "number of msk chips of 256x256 produced were: 30294\n"
     ]
    }
   ],
   "source": [
    "tesellation(4, 256)"
   ]
  },
  {
   "attachments": {},
   "cell_type": "markdown",
   "metadata": {},
   "source": [
    "## **Imbalance Check**"
   ]
  },
  {
   "cell_type": "code",
   "execution_count": 4,
   "metadata": {},
   "outputs": [],
   "source": [
    "import cv2\n",
    "import numpy as np\n",
    "import os\n",
    "\n",
    "def imbalance_check(number_tif):\n",
    "    save_dir_image = f\"images/real_img/TIF_{number_tif}/\"\n",
    "    save_dir_mask = f\"images/mask/TIF_{number_tif}/\"\n",
    "\n",
    "    count = 0\n",
    "    imb = 10\n",
    "\n",
    "    print(\"Total files in folder: \", len(os.listdir(save_dir_mask)))\n",
    "    tot_imgs = len(os.listdir(save_dir_mask))\n",
    "\n",
    "    for filename in (os.listdir(save_dir_mask)):\n",
    "        #img = Image.open(path + '\\\\' + filename)\n",
    "        img = cv2.imread(save_dir_mask + '/' + filename, cv2.IMREAD_GRAYSCALE)\n",
    "        n_white_pix = np.sum(img > 0)\n",
    "        n_black_pix = np.sum(img == 0)\n",
    "        if (n_white_pix/n_black_pix)*100 < imb:\n",
    "            count = count + 1\n",
    "            os.remove(save_dir_mask + '/' + filename)\n",
    "            os.remove(save_dir_image + '/' + filename)\n",
    "    print(\"-> deleted img-msk: \", count)\n",
    "    print(\"-> remaining img-msk: \", (tot_imgs-count))"
   ]
  },
  {
   "cell_type": "markdown",
   "metadata": {},
   "source": [
    "## **INDIANA_TIF_1**"
   ]
  },
  {
   "cell_type": "code",
   "execution_count": 5,
   "metadata": {},
   "outputs": [
    {
     "name": "stdout",
     "output_type": "stream",
     "text": [
      "Total files in folder:  14946\n"
     ]
    },
    {
     "name": "stderr",
     "output_type": "stream",
     "text": [
      "C:\\Users\\Mateo\\AppData\\Local\\Temp\\ipykernel_12384\\781210601.py:20: RuntimeWarning: divide by zero encountered in scalar divide\n",
      "  if (n_white_pix/n_black_pix)*100 < imb:\n"
     ]
    },
    {
     "name": "stdout",
     "output_type": "stream",
     "text": [
      "-> deleted img-msk:  14443\n",
      "-> remaining img-msk:  503\n"
     ]
    }
   ],
   "source": [
    "imbalance_check(1)"
   ]
  },
  {
   "cell_type": "markdown",
   "metadata": {},
   "source": [
    "## **INDIANA_TIF_2**"
   ]
  },
  {
   "cell_type": "code",
   "execution_count": 6,
   "metadata": {},
   "outputs": [
    {
     "name": "stdout",
     "output_type": "stream",
     "text": [
      "Total files in folder:  13527\n"
     ]
    },
    {
     "name": "stderr",
     "output_type": "stream",
     "text": [
      "C:\\Users\\Mateo\\AppData\\Local\\Temp\\ipykernel_12384\\781210601.py:20: RuntimeWarning: divide by zero encountered in scalar divide\n",
      "  if (n_white_pix/n_black_pix)*100 < imb:\n"
     ]
    },
    {
     "name": "stdout",
     "output_type": "stream",
     "text": [
      "-> deleted img-msk:  12682\n",
      "-> remaining img-msk:  845\n"
     ]
    }
   ],
   "source": [
    "imbalance_check(2)"
   ]
  },
  {
   "cell_type": "markdown",
   "metadata": {},
   "source": [
    "## **INDIANA_TIF_3**"
   ]
  },
  {
   "cell_type": "code",
   "execution_count": 7,
   "metadata": {},
   "outputs": [
    {
     "name": "stdout",
     "output_type": "stream",
     "text": [
      "Total files in folder:  7085\n"
     ]
    },
    {
     "name": "stderr",
     "output_type": "stream",
     "text": [
      "C:\\Users\\Mateo\\AppData\\Local\\Temp\\ipykernel_12384\\781210601.py:20: RuntimeWarning: divide by zero encountered in scalar divide\n",
      "  if (n_white_pix/n_black_pix)*100 < imb:\n"
     ]
    },
    {
     "name": "stdout",
     "output_type": "stream",
     "text": [
      "-> deleted img-msk:  6445\n",
      "-> remaining img-msk:  640\n"
     ]
    }
   ],
   "source": [
    "imbalance_check(3)"
   ]
  },
  {
   "cell_type": "markdown",
   "metadata": {},
   "source": [
    "## **INDIANA_TIF_4**"
   ]
  },
  {
   "cell_type": "code",
   "execution_count": 8,
   "metadata": {},
   "outputs": [
    {
     "name": "stdout",
     "output_type": "stream",
     "text": [
      "Total files in folder:  30294\n"
     ]
    },
    {
     "name": "stderr",
     "output_type": "stream",
     "text": [
      "C:\\Users\\Mateo\\AppData\\Local\\Temp\\ipykernel_12384\\781210601.py:20: RuntimeWarning: divide by zero encountered in scalar divide\n",
      "  if (n_white_pix/n_black_pix)*100 < imb:\n"
     ]
    },
    {
     "name": "stdout",
     "output_type": "stream",
     "text": [
      "-> deleted img-msk:  28780\n",
      "-> remaining img-msk:  1514\n"
     ]
    }
   ],
   "source": [
    "imbalance_check(4)"
   ]
  },
  {
   "attachments": {},
   "cell_type": "markdown",
   "metadata": {},
   "source": [
    "## **Rename**"
   ]
  },
  {
   "cell_type": "code",
   "execution_count": 9,
   "metadata": {},
   "outputs": [],
   "source": [
    "import cv2\n",
    "import numpy as np\n",
    "import os\n",
    "\n",
    "def rename_images(number_tif):\n",
    "    save_dir_image = f\"images/real_img/TIF_{number_tif}/\"\n",
    "    save_dir_mask = f\"images/mask/TIF_{number_tif}/\"\n",
    "\n",
    "    i = 1\n",
    "    for item in os.listdir(save_dir_image):\n",
    "        if item.endswith('.png'):\n",
    "            os.rename(os.path.join(save_dir_image,item),os.path.join(save_dir_image,(str(i)+'w'+'.png')))\n",
    "            #os.rename(os.path.join(mysource,item),os.path.join(mysource,(str(i)+'w'+'.tif')))\n",
    "            #os.rename(os.path.join(mysource,item),os.path.join(mysource,(str(i)+'.png')))\n",
    "            i += 1\n",
    "            print('-> Renamed:', i, end='\\r', flush=True)\n",
    "    print(\"El numero de imagenes renombradas es de:\", i-1)\n",
    "\n",
    "    j = 1\n",
    "    for item in os.listdir(save_dir_mask):\n",
    "        if item.endswith('.png'):\n",
    "            os.rename(os.path.join(save_dir_mask,item),os.path.join(save_dir_mask,(str(j)+'w'+'.png')))\n",
    "            #os.rename(os.path.join(mysource2,item),os.path.join(mysource2,(str(j)+'w'+'.tif')))\n",
    "            #os.rename(os.path.join(mysource2,item),os.path.join(mysource2,(str(j)+'.png')))\n",
    "            j += 1\n",
    "            print('-> Renamed:', j, end='\\r', flush=True)\n",
    "    print(\"El numero de mascaras renombradas es de:\", j-1)"
   ]
  },
  {
   "cell_type": "markdown",
   "metadata": {},
   "source": [
    "## **INDIANA_TIF_1**"
   ]
  },
  {
   "cell_type": "code",
   "execution_count": 10,
   "metadata": {},
   "outputs": [
    {
     "name": "stdout",
     "output_type": "stream",
     "text": [
      "El numero de imagenes renombradas es de: 503 142 149 159 163 171 180 189 198 215 219 223 228 233 248 253 262 272 278 288 291 309 317 327 328 346 348 353 365 377 386 391 403 412 417 427 432 438 440 453 473 477 494 496 501\n",
      "El numero de mascaras renombradas es de: 5035 80 101 106 133 137 142 148 153 157 162 173 187 192 196 201 209 219 224 233 239 255 257 268 274 275 278 310 315 334 339 344 349 361 380 390 392 401 406 443 448 452 467 472 476 499\n"
     ]
    }
   ],
   "source": [
    "rename_images(1)"
   ]
  },
  {
   "cell_type": "markdown",
   "metadata": {},
   "source": [
    "## **INDIANA_TIF_2**"
   ]
  },
  {
   "cell_type": "code",
   "execution_count": 11,
   "metadata": {},
   "outputs": [
    {
     "name": "stdout",
     "output_type": "stream",
     "text": [
      "El numero de imagenes renombradas es de:103 108 110 123 137 162 170 174 179 188 197 209 218 222 248 256 273 286 295 302 329 337 342 346 355 375 393 407 412 413 418 423 446 451 454 462 484 490 499 502 519 522 535 549 551 569 573 576 580 582 589 593 596 604 608 611 622 630 634 639 643 646 655 667 670 672 674 683 698 709 715 718 731 733 745 765 774 779 780 797 801 804 824 826 828 844 845\n",
      "El numero de mascaras renombradas es de: 84532 141 149 168 190 194 195 198 203 208 220 228 230 233 236 244 261 264 266 284 289 302 304 310 328 333 339 343 346 351 356 360 367 383 389 398 423 439 443 465 469 474 492 502 525 529 530 554 559 578 583 598 603 610 620 625 635 649 658 674 701 705 709 721 745 754 763 776 790 799 803 807 812 825 838\n"
     ]
    }
   ],
   "source": [
    "rename_images(2)"
   ]
  },
  {
   "cell_type": "markdown",
   "metadata": {},
   "source": [
    "## **INDIANA_TIF_3**"
   ]
  },
  {
   "cell_type": "code",
   "execution_count": 12,
   "metadata": {},
   "outputs": [
    {
     "name": "stdout",
     "output_type": "stream",
     "text": [
      "El numero de imagenes renombradas es de: 640116 136 146 149 159 164 168 182 185 203 212 217 222 227 240 244 249 268 273 278 280 307 328 335 339 352 357 361 370 375 380 382 391 414 419 427 437 450 454 458 461 475 479 483 487 495 508 524 535 540 545 550 574 579 582 588 593 608 614\n",
      "El numero de mascaras renombradas es de: 6408 103 115 127 141 154 164 169 174 185 200 210 220 233 238 251 260 265 294 310 314 315 320 322 325 333 338 343 351 365 380 385 399 412 421 425 429 438 452 457 462 471 476 481 485 490 495 505 510 513 523 533 538 547 589 594 599 609 614 629 636 641\n"
     ]
    }
   ],
   "source": [
    "rename_images(3)"
   ]
  },
  {
   "cell_type": "markdown",
   "metadata": {},
   "source": [
    "## **INDIANA_TIF_4**"
   ]
  },
  {
   "cell_type": "code",
   "execution_count": 13,
   "metadata": {},
   "outputs": [
    {
     "name": "stdout",
     "output_type": "stream",
     "text": [
      "El numero de imagenes renombradas es de: 1514 90 100 105 110 119 128 142 147 154 159 165 169 174 200 203 212 217 226 231 235 247 256 264 269 287 290 300 317 329 333 337 339 346 355 367 376 394 403 414 423 428 432 436 459 477 495 499 521 526 533 556 565 571 581 586 610 614 644 647 650 700 714 719 723 726 735 752 767 777 795 800 816 820 829 834 855 863 871 877 882 893 897 906 910 929 933 938 952 970 976 995 1003 1006 1013 1017 1026 1031 1035 1040 1051 1060 1066 1083 1085 1093 1098 1107 1112 1115 1117 1121 1148 1153 1157 1158 1162 1167 1171 1176 1182 1195 1200 1209 1213 1221 1226 1236 1260 1265 1268 1272 1277 1287 1321 1329 1342 1346 1355 1368 1377 1382 1397 1402 1416 1421 1425 1437 1442 1454 1459 1464 1490 1503 1512\n",
      "El numero de mascaras renombradas es de: 1514 99 121 132 159 167 197 209 218 246 255 260 265 268 273 278 286 324 328 337 342 343 348 353 363 365 374 408 446 458 470 478 487 496 500 512 529 533 538 543 551 555 565 577 579 595 598 602 606 614 624 626 634 642 647 662 687 698 704 710 715 724 728 736 742 746 760 768 799 808 822 831 836 840 851 864 868 869 887 890 903 906 914 923 926 931 936 966 971 983 998 1002 1008 1028 1032 1037 1042 1047 1074 1075 1076 1081 1095 1117 1122 1144 1155 1160 1177 1185 1193 1210 1228 1233 1243 1258 1259 1280 1287 1297 1302 1307 1322 1326 1327 1341 1366 1371 1375 1380 1385 1390 1400 1404 1408 1418 1423 1426 1445 1463 1480 1487 1508 1510\n"
     ]
    }
   ],
   "source": [
    "rename_images(4)"
   ]
  },
  {
   "attachments": {},
   "cell_type": "markdown",
   "metadata": {},
   "source": [
    "## **Prueba**"
   ]
  },
  {
   "cell_type": "code",
   "execution_count": null,
   "metadata": {},
   "outputs": [],
   "source": [
    "#img = Image.open(\"images/tif_big/mask/INDIANA2_MASK.tif\")\n",
    "img = Image.open(\"images/tif_big/mask/INDIANA2_MASK.tif\")\n",
    "width, height = img.size\n",
    "start_pos = start_x, start_y = (0, 0)\n",
    "\n",
    "print(width, height)\n",
    "frame_num = 1\n",
    "for col_i in range(0, width, 256):\n",
    "    for row_i in range(0, height, 256):\n",
    "        crop = img.crop((col_i, row_i, col_i + 256, row_i + 256))\n",
    "        print(row_i)"
   ]
  },
  {
   "cell_type": "code",
   "execution_count": null,
   "metadata": {},
   "outputs": [],
   "source": [
    "#img = Image.open(\"images/tif_big/mask/INDIANA2_MASK.tif\")\n",
    "img = Image.open(\"images/tif_big/real_images/tif1.tif\")\n",
    "width, height = img.size\n",
    "start_pos = start_x, start_y = (0, 0)\n",
    "\n",
    "print(width, height)\n",
    "frame_num = 1\n",
    "for col_i in range(0, width, 256):\n",
    "    for row_i in range(0, height, 256):\n",
    "        crop = img.crop((col_i, row_i, col_i + 256, row_i + 256))\n",
    "        print(row_i)"
   ]
  }
 ],
 "metadata": {
  "kernelspec": {
   "display_name": "Python 3.10.5 ('venv')",
   "language": "python",
   "name": "python3"
  },
  "language_info": {
   "codemirror_mode": {
    "name": "ipython",
    "version": 3
   },
   "file_extension": ".py",
   "mimetype": "text/x-python",
   "name": "python",
   "nbconvert_exporter": "python",
   "pygments_lexer": "ipython3",
   "version": "3.10.5"
  },
  "orig_nbformat": 4,
  "vscode": {
   "interpreter": {
    "hash": "14df3589977874f0e03afb7bd5dc51aa9e523fba4f47e37972981b0cbab3ffb3"
   }
  }
 },
 "nbformat": 4,
 "nbformat_minor": 2
}
