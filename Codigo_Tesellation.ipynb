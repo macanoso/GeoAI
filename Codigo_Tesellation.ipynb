{
 "cells": [
  {
   "cell_type": "code",
   "execution_count": null,
   "metadata": {},
   "outputs": [],
   "source": [
    "import os\n",
    "import sys\n",
    "from PIL import Image\n",
    "Image.MAX_IMAGE_PIXELS = None\n",
    "\n",
    "savedir = \"C:/Users/JHON/Downloads/AutoMap/datos/img256_1m_road/\"\n",
    "filename = \"C:/Users/JHON/Downloads/AutoMap/datos/El_Retiro/El_Retiro.tif\"\n",
    "savedir2 = \"C:/Users/JHON/Downloads/AutoMap/datos/msk256_1m_road/\"\n",
    "filename2 = \"C:/Users/JHON/Downloads/AutoMap/datos/El_Retiro/Retiro_1m_roads.tif\"\n",
    "\n",
    "img = Image.open(filename)\n",
    "width, height = img.size\n",
    "start_pos = start_x, start_y = (0, 0)\n",
    "cropped_image_size = w, h = (256,256)\n",
    "#cropped_image_size = w, h = (1500,1500)\n",
    "#cropped_image_size = w, h = (1024,1024)\n",
    "#cropped_image_size = w, h = (2000,2000)\n",
    "#cropped_image_size = w, h = (1500,1500)\n",
    "#cropped_image_size = w, h = (1000,1000)\n",
    "#cropped_image_size = w, h = (750,750)\n",
    "#cropped_image_size = w, h = (600,600)\n",
    "#cropped_image_size = w, h = (512,512)\n",
    "\n",
    "frame_num = 1\n",
    "for col_i in range(0, width, w):\n",
    "    for row_i in range(0, height, h):\n",
    "        crop = img.crop((col_i, row_i, col_i + w, row_i + h))\n",
    "        save_to= os.path.join(savedir + \"{:1}.png\")\n",
    "        crop.convert('RGB').save(save_to.format(frame_num))\n",
    "        print(frame_num, end='\\r', flush=True)\n",
    "        frame_num += 1\n",
    "print('number of img chips of ' + str(w) + 'x' + str(h) + \n",
    "      ' produced were:', frame_num-1)\n",
    "\n",
    "\n",
    "img = Image.open(filename2)\n",
    "width, height = img.size\n",
    "start_pos = start_x, start_y = (0, 0)\n",
    "\n",
    "frame_num = 1\n",
    "for col_i in range(0, width, w):\n",
    "    for row_i in range(0, height, h):\n",
    "        crop = img.crop((col_i, row_i, col_i + w, row_i + h))\n",
    "        save_to= os.path.join(savedir2 + \"{:1}.png\")\n",
    "        crop.save(save_to.format(frame_num))\n",
    "        print(frame_num, end='\\r', flush=True)\n",
    "        frame_num += 1\n",
    "print('number of msk chips of ' + str(w) + 'x' + str(h) + \n",
    "      ' produced were:', frame_num-1)\n"
   ]
  }
 ],
 "metadata": {
  "language_info": {
   "name": "python"
  },
  "orig_nbformat": 4
 },
 "nbformat": 4,
 "nbformat_minor": 2
}
