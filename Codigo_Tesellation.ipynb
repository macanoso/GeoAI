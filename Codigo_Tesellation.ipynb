{
 "cells": [
  {
   "cell_type": "code",
   "execution_count": 1,
   "metadata": {},
   "outputs": [],
   "source": [
    "import os\n",
    "import sys\n",
    "import PIL\n",
    "import numpy as np\n",
    "from PIL import Image\n",
    "import rioxarray\n",
    "from tifffile import imread\n",
    "Image.MAX_IMAGE_PIXELS = None\n",
    "\n",
    "actual_path = os.getcwd()\n",
    "os.chdir(actual_path)\n",
    "\n",
    "def tesellation(number_tif, cropped_size):\n",
    "    filename_image = f\"images/tif_big/real_images/INDIANA_{number_tif}_AOI.tif\"\n",
    "    filename_mask = f\"images/tif_big/mask/INDIANA{number_tif}_MASK.tif\"\n",
    "    save_dir_image = f\"images/real_img/TIF_{number_tif}/\"\n",
    "    save_dir_mask = f\"images/mask/TIF_{number_tif}/\"\n",
    "\n",
    "    img = Image.open(filename_image)\n",
    "    width, height = img.size\n",
    "    start_pos = start_x, start_y = (0, 0)\n",
    "    cropped_image_size = w, h = (cropped_size,cropped_size)\n",
    "    \n",
    "    frame_num = 1\n",
    "    \n",
    "    for col_i in range(0, width, w):\n",
    "        for row_i in range(0, height, h):\n",
    "            crop = img.crop((col_i, row_i, col_i + w, row_i + h))\n",
    "            save_to= os.path.join(save_dir_image + \"{:1}.png\")\n",
    "            crop.convert('RGB').save(save_to.format(frame_num))\n",
    "            print(frame_num, end='\\r', flush=True)\n",
    "            frame_num += 1\n",
    "    print('number of img chips of ' + str(w) + 'x' + str(h) + \n",
    "        ' produced were:', frame_num-1)\n",
    "\n",
    "    img = Image.open(filename_mask)\n",
    "\n",
    "    width, height = img.size\n",
    "    start_pos = start_x, start_y = (0, 0)\n",
    "\n",
    "    frame_num = 1\n",
    "    for col_i in range(0, width, w):\n",
    "        for row_i in range(0, height, h):\n",
    "            crop = img.crop((col_i, row_i, col_i + w, row_i + h))\n",
    "            save_to= os.path.join(save_dir_mask + \"{:1}.png\")\n",
    "            crop.save(save_to.format(frame_num))\n",
    "            print(frame_num, end='\\r', flush=True)\n",
    "            frame_num += 1\n",
    "    print('number of msk chips of ' + str(w) + 'x' + str(h) + \n",
    "        ' produced were:', frame_num-1)"
   ]
  },
  {
   "attachments": {},
   "cell_type": "markdown",
   "metadata": {},
   "source": [
    "## **INDIANA_TIF_2**"
   ]
  },
  {
   "cell_type": "code",
   "execution_count": 6,
   "metadata": {},
   "outputs": [
    {
     "name": "stdout",
     "output_type": "stream",
     "text": [
      "number of img chips of 256x256 produced were: 13527\n",
      "number of msk chips of 256x256 produced were: 13527\n"
     ]
    }
   ],
   "source": [
    "tesellation(2, 256)"
   ]
  },
  {
   "attachments": {},
   "cell_type": "markdown",
   "metadata": {},
   "source": [
    "## **INDIANA_TIF_3**"
   ]
  },
  {
   "cell_type": "code",
   "execution_count": 7,
   "metadata": {},
   "outputs": [
    {
     "name": "stdout",
     "output_type": "stream",
     "text": [
      "number of img chips of 256x256 produced were: 7085\n",
      "number of msk chips of 256x256 produced were: 7085\n"
     ]
    }
   ],
   "source": [
    "tesellation(3, 256)"
   ]
  },
  {
   "attachments": {},
   "cell_type": "markdown",
   "metadata": {},
   "source": [
    "## **INDIANA_TIF_4**"
   ]
  },
  {
   "cell_type": "code",
   "execution_count": 6,
   "metadata": {},
   "outputs": [
    {
     "name": "stdout",
     "output_type": "stream",
     "text": [
      "number of img chips of 256x256 produced were: 30294\n",
      "number of msk chips of 256x256 produced were: 30294\n"
     ]
    }
   ],
   "source": [
    "tesellation(4, 256)"
   ]
  },
  {
   "attachments": {},
   "cell_type": "markdown",
   "metadata": {},
   "source": [
    "## **Prueba**"
   ]
  },
  {
   "cell_type": "code",
   "execution_count": null,
   "metadata": {},
   "outputs": [],
   "source": [
    "#img = Image.open(\"images/tif_big/mask/INDIANA2_MASK.tif\")\n",
    "img = Image.open(\"images/tif_big/mask/INDIANA2_MASK.tif\")\n",
    "width, height = img.size\n",
    "start_pos = start_x, start_y = (0, 0)\n",
    "\n",
    "print(width, height)\n",
    "frame_num = 1\n",
    "for col_i in range(0, width, 256):\n",
    "    for row_i in range(0, height, 256):\n",
    "        crop = img.crop((col_i, row_i, col_i + 256, row_i + 256))\n",
    "        print(row_i)"
   ]
  },
  {
   "cell_type": "code",
   "execution_count": null,
   "metadata": {},
   "outputs": [],
   "source": [
    "#img = Image.open(\"images/tif_big/mask/INDIANA2_MASK.tif\")\n",
    "img = Image.open(\"images/tif_big/real_images/tif1.tif\")\n",
    "width, height = img.size\n",
    "start_pos = start_x, start_y = (0, 0)\n",
    "\n",
    "print(width, height)\n",
    "frame_num = 1\n",
    "for col_i in range(0, width, 256):\n",
    "    for row_i in range(0, height, 256):\n",
    "        crop = img.crop((col_i, row_i, col_i + 256, row_i + 256))\n",
    "        print(row_i)"
   ]
  }
 ],
 "metadata": {
  "kernelspec": {
   "display_name": "Python 3.10.5 ('venv')",
   "language": "python",
   "name": "python3"
  },
  "language_info": {
   "codemirror_mode": {
    "name": "ipython",
    "version": 3
   },
   "file_extension": ".py",
   "mimetype": "text/x-python",
   "name": "python",
   "nbconvert_exporter": "python",
   "pygments_lexer": "ipython3",
   "version": "3.10.5"
  },
  "orig_nbformat": 4,
  "vscode": {
   "interpreter": {
    "hash": "14df3589977874f0e03afb7bd5dc51aa9e523fba4f47e37972981b0cbab3ffb3"
   }
  }
 },
 "nbformat": 4,
 "nbformat_minor": 2
}
