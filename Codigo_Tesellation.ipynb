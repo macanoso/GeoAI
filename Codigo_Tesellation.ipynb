{
 "cells": [
  {
   "cell_type": "code",
   "execution_count": 1,
   "metadata": {},
   "outputs": [],
   "source": [
    "import os\n",
    "import sys\n",
    "import PIL\n",
    "import numpy as np\n",
    "from PIL import Image\n",
    "import rioxarray\n",
    "from tifffile import imread\n",
    "Image.MAX_IMAGE_PIXELS = None\n",
    "\n",
    "actual_path = os.getcwd()\n",
    "os.chdir(actual_path)\n",
    "\n",
    "def tesellation(number_tif, cropped_size):\n",
    "    filename_image = f\"images/tif_big/real_images/INDIANA_{number_tif}_AOI.tif\"\n",
    "    filename_mask = f\"images/tif_big/mask/INDIANA{number_tif}_MASK.tif\"\n",
    "    save_dir_image = f\"images/real_img/TIF_{number_tif}/\"\n",
    "    save_dir_mask = f\"images/mask/TIF_{number_tif}/\"\n",
    "\n",
    "    img = Image.open(filename_image)\n",
    "    width, height = img.size\n",
    "    start_pos = start_x, start_y = (0, 0)\n",
    "    cropped_image_size = w, h = (cropped_size,cropped_size)\n",
    "    \n",
    "    frame_num = 1\n",
    "    \n",
    "    for col_i in range(0, width, w):\n",
    "        for row_i in range(0, height, h):\n",
    "            crop = img.crop((col_i, row_i, col_i + w, row_i + h))\n",
    "            save_to= os.path.join(save_dir_image + \"{:1}.png\")\n",
    "            crop.convert('RGB').save(save_to.format(frame_num))\n",
    "            print(frame_num, end='\\r', flush=True)\n",
    "            frame_num += 1\n",
    "    print('number of img chips of ' + str(w) + 'x' + str(h) + \n",
    "        ' produced were:', frame_num-1)\n",
    "\n",
    "    img = Image.open(filename_mask)\n",
    "\n",
    "    width, height = img.size\n",
    "    start_pos = start_x, start_y = (0, 0)\n",
    "\n",
    "    frame_num = 1\n",
    "    for col_i in range(0, width, w):\n",
    "        for row_i in range(0, height, h):\n",
    "            crop = img.crop((col_i, row_i, col_i + w, row_i + h))\n",
    "            save_to= os.path.join(save_dir_mask + \"{:1}.png\")\n",
    "            crop.save(save_to.format(frame_num))\n",
    "            print(frame_num, end='\\r', flush=True)\n",
    "            frame_num += 1\n",
    "    print('number of msk chips of ' + str(w) + 'x' + str(h) + \n",
    "        ' produced were:', frame_num-1)"
   ]
  },
  {
   "attachments": {},
   "cell_type": "markdown",
   "metadata": {},
   "source": [
    "## **INDIANA_TIF_1**"
   ]
  },
  {
   "cell_type": "code",
   "execution_count": 2,
   "metadata": {},
   "outputs": [
    {
     "name": "stdout",
     "output_type": "stream",
     "text": [
      "number of img chips of 256x256 produced were: 14946\n",
      "number of msk chips of 256x256 produced were: 14946\n"
     ]
    }
   ],
   "source": [
    "tesellation(1, 256)"
   ]
  },
  {
   "attachments": {},
   "cell_type": "markdown",
   "metadata": {},
   "source": [
    "## **INDIANA_TIF_2**"
   ]
  },
  {
   "cell_type": "code",
   "execution_count": 4,
   "metadata": {},
   "outputs": [
    {
     "name": "stdout",
     "output_type": "stream",
     "text": [
      "number of img chips of 256x256 produced were: 13527\n",
      "1281"
     ]
    },
    {
     "ename": "KeyboardInterrupt",
     "evalue": "",
     "output_type": "error",
     "traceback": [
      "\u001b[1;31m---------------------------------------------------------------------------\u001b[0m",
      "\u001b[1;31mKeyboardInterrupt\u001b[0m                         Traceback (most recent call last)",
      "Cell \u001b[1;32mIn[4], line 1\u001b[0m\n\u001b[1;32m----> 1\u001b[0m tesellation(\u001b[39m2\u001b[39;49m, \u001b[39m256\u001b[39;49m)\n",
      "Cell \u001b[1;32mIn[1], line 47\u001b[0m, in \u001b[0;36mtesellation\u001b[1;34m(number_tif, cropped_size)\u001b[0m\n\u001b[0;32m     45\u001b[0m         save_to\u001b[39m=\u001b[39m os\u001b[39m.\u001b[39mpath\u001b[39m.\u001b[39mjoin(save_dir_mask \u001b[39m+\u001b[39m \u001b[39m\"\u001b[39m\u001b[39m{:1}\u001b[39;00m\u001b[39m.png\u001b[39m\u001b[39m\"\u001b[39m)\n\u001b[0;32m     46\u001b[0m         crop\u001b[39m.\u001b[39msave(save_to\u001b[39m.\u001b[39mformat(frame_num))\n\u001b[1;32m---> 47\u001b[0m         \u001b[39mprint\u001b[39;49m(frame_num, end\u001b[39m=\u001b[39;49m\u001b[39m'\u001b[39;49m\u001b[39m\\r\u001b[39;49;00m\u001b[39m'\u001b[39;49m, flush\u001b[39m=\u001b[39;49m\u001b[39mTrue\u001b[39;49;00m)\n\u001b[0;32m     48\u001b[0m         frame_num \u001b[39m+\u001b[39m\u001b[39m=\u001b[39m \u001b[39m1\u001b[39m\n\u001b[0;32m     49\u001b[0m \u001b[39mprint\u001b[39m(\u001b[39m'\u001b[39m\u001b[39mnumber of msk chips of \u001b[39m\u001b[39m'\u001b[39m \u001b[39m+\u001b[39m \u001b[39mstr\u001b[39m(w) \u001b[39m+\u001b[39m \u001b[39m'\u001b[39m\u001b[39mx\u001b[39m\u001b[39m'\u001b[39m \u001b[39m+\u001b[39m \u001b[39mstr\u001b[39m(h) \u001b[39m+\u001b[39m \n\u001b[0;32m     50\u001b[0m     \u001b[39m'\u001b[39m\u001b[39m produced were:\u001b[39m\u001b[39m'\u001b[39m, frame_num\u001b[39m-\u001b[39m\u001b[39m1\u001b[39m)\n",
      "File \u001b[1;32mc:\\Users\\Mateo\\AppData\\Local\\pypoetry\\Cache\\virtualenvs\\geoai_vegetation_encroachment-YqaE4ZDg-py3.10\\lib\\site-packages\\ipykernel\\iostream.py:573\u001b[0m, in \u001b[0;36mOutStream.write\u001b[1;34m(self, string)\u001b[0m\n\u001b[0;32m    571\u001b[0m         \u001b[39mself\u001b[39m\u001b[39m.\u001b[39mpub_thread\u001b[39m.\u001b[39mschedule(\u001b[39mself\u001b[39m\u001b[39m.\u001b[39m_flush)\n\u001b[0;32m    572\u001b[0m     \u001b[39melse\u001b[39;00m:\n\u001b[1;32m--> 573\u001b[0m         \u001b[39mself\u001b[39;49m\u001b[39m.\u001b[39;49m_schedule_flush()\n\u001b[0;32m    575\u001b[0m \u001b[39mreturn\u001b[39;00m \u001b[39mlen\u001b[39m(string)\n",
      "File \u001b[1;32mc:\\Users\\Mateo\\AppData\\Local\\pypoetry\\Cache\\virtualenvs\\geoai_vegetation_encroachment-YqaE4ZDg-py3.10\\lib\\site-packages\\ipykernel\\iostream.py:478\u001b[0m, in \u001b[0;36mOutStream._schedule_flush\u001b[1;34m(self)\u001b[0m\n\u001b[0;32m    475\u001b[0m \u001b[39mdef\u001b[39;00m \u001b[39m_schedule_in_thread\u001b[39m():\n\u001b[0;32m    476\u001b[0m     \u001b[39mself\u001b[39m\u001b[39m.\u001b[39m_io_loop\u001b[39m.\u001b[39mcall_later(\u001b[39mself\u001b[39m\u001b[39m.\u001b[39mflush_interval, \u001b[39mself\u001b[39m\u001b[39m.\u001b[39m_flush)\n\u001b[1;32m--> 478\u001b[0m \u001b[39mself\u001b[39;49m\u001b[39m.\u001b[39;49mpub_thread\u001b[39m.\u001b[39;49mschedule(_schedule_in_thread)\n",
      "File \u001b[1;32mc:\\Users\\Mateo\\AppData\\Local\\pypoetry\\Cache\\virtualenvs\\geoai_vegetation_encroachment-YqaE4ZDg-py3.10\\lib\\site-packages\\ipykernel\\iostream.py:211\u001b[0m, in \u001b[0;36mIOPubThread.schedule\u001b[1;34m(self, f)\u001b[0m\n\u001b[0;32m    209\u001b[0m     \u001b[39mself\u001b[39m\u001b[39m.\u001b[39m_events\u001b[39m.\u001b[39mappend(f)\n\u001b[0;32m    210\u001b[0m     \u001b[39m# wake event thread (message content is ignored)\u001b[39;00m\n\u001b[1;32m--> 211\u001b[0m     \u001b[39mself\u001b[39;49m\u001b[39m.\u001b[39;49m_event_pipe\u001b[39m.\u001b[39;49msend(\u001b[39mb\u001b[39;49m\u001b[39m\"\u001b[39;49m\u001b[39m\"\u001b[39;49m)\n\u001b[0;32m    212\u001b[0m \u001b[39melse\u001b[39;00m:\n\u001b[0;32m    213\u001b[0m     f()\n",
      "File \u001b[1;32mc:\\Users\\Mateo\\AppData\\Local\\pypoetry\\Cache\\virtualenvs\\geoai_vegetation_encroachment-YqaE4ZDg-py3.10\\lib\\site-packages\\zmq\\sugar\\socket.py:688\u001b[0m, in \u001b[0;36mSocket.send\u001b[1;34m(self, data, flags, copy, track, routing_id, group)\u001b[0m\n\u001b[0;32m    681\u001b[0m         data \u001b[39m=\u001b[39m zmq\u001b[39m.\u001b[39mFrame(\n\u001b[0;32m    682\u001b[0m             data,\n\u001b[0;32m    683\u001b[0m             track\u001b[39m=\u001b[39mtrack,\n\u001b[0;32m    684\u001b[0m             copy\u001b[39m=\u001b[39mcopy \u001b[39mor\u001b[39;00m \u001b[39mNone\u001b[39;00m,\n\u001b[0;32m    685\u001b[0m             copy_threshold\u001b[39m=\u001b[39m\u001b[39mself\u001b[39m\u001b[39m.\u001b[39mcopy_threshold,\n\u001b[0;32m    686\u001b[0m         )\n\u001b[0;32m    687\u001b[0m     data\u001b[39m.\u001b[39mgroup \u001b[39m=\u001b[39m group\n\u001b[1;32m--> 688\u001b[0m \u001b[39mreturn\u001b[39;00m \u001b[39msuper\u001b[39;49m()\u001b[39m.\u001b[39;49msend(data, flags\u001b[39m=\u001b[39;49mflags, copy\u001b[39m=\u001b[39;49mcopy, track\u001b[39m=\u001b[39;49mtrack)\n",
      "File \u001b[1;32mzmq\\backend\\cython\\socket.pyx:742\u001b[0m, in \u001b[0;36mzmq.backend.cython.socket.Socket.send\u001b[1;34m()\u001b[0m\n",
      "File \u001b[1;32mzmq\\backend\\cython\\socket.pyx:789\u001b[0m, in \u001b[0;36mzmq.backend.cython.socket.Socket.send\u001b[1;34m()\u001b[0m\n",
      "File \u001b[1;32mzmq\\backend\\cython\\socket.pyx:250\u001b[0m, in \u001b[0;36mzmq.backend.cython.socket._send_copy\u001b[1;34m()\u001b[0m\n",
      "File \u001b[1;32mc:\\Users\\Mateo\\AppData\\Local\\pypoetry\\Cache\\virtualenvs\\geoai_vegetation_encroachment-YqaE4ZDg-py3.10\\lib\\site-packages\\zmq\\backend\\cython\\checkrc.pxd:13\u001b[0m, in \u001b[0;36mzmq.backend.cython.checkrc._check_rc\u001b[1;34m()\u001b[0m\n",
      "\u001b[1;31mKeyboardInterrupt\u001b[0m: "
     ]
    }
   ],
   "source": [
    "tesellation(2, 256)"
   ]
  },
  {
   "attachments": {},
   "cell_type": "markdown",
   "metadata": {},
   "source": [
    "## **INDIANA_TIF_3**"
   ]
  },
  {
   "cell_type": "code",
   "execution_count": null,
   "metadata": {},
   "outputs": [
    {
     "name": "stdout",
     "output_type": "stream",
     "text": [
      "number of img chips of 256x256 produced were: 7085\n",
      "number of msk chips of 256x256 produced were: 7085\n"
     ]
    }
   ],
   "source": [
    "tesellation(3, 256)"
   ]
  },
  {
   "attachments": {},
   "cell_type": "markdown",
   "metadata": {},
   "source": [
    "## **INDIANA_TIF_4**"
   ]
  },
  {
   "cell_type": "code",
   "execution_count": 6,
   "metadata": {},
   "outputs": [
    {
     "name": "stdout",
     "output_type": "stream",
     "text": [
      "number of img chips of 256x256 produced were: 30294\n",
      "number of msk chips of 256x256 produced were: 30294\n"
     ]
    }
   ],
   "source": [
    "tesellation(4, 256)"
   ]
  },
  {
   "attachments": {},
   "cell_type": "markdown",
   "metadata": {},
   "source": [
    "## **Imbalance Check**"
   ]
  },
  {
   "cell_type": "code",
   "execution_count": 3,
   "metadata": {},
   "outputs": [],
   "source": [
    "import cv2\n",
    "import numpy as np\n",
    "import os\n",
    "\n",
    "def imbalance_check(number_tif):\n",
    "    save_dir_image = f\"images/real_img/TIF_{number_tif}/\"\n",
    "    save_dir_mask = f\"images/mask/TIF_{number_tif}/\"\n",
    "\n",
    "    count = 0\n",
    "    imb = 10\n",
    "    \n",
    "\n",
    "    print(\"Total files in folder: \", len(os.listdir(save_dir_mask)))\n",
    "    tot_imgs = len(os.listdir(save_dir_mask))\n",
    "\n",
    "    for filename in (os.listdir(save_dir_mask)):\n",
    "        #img = Image.open(path + '\\\\' + filename)\n",
    "        img = cv2.imread(save_dir_mask + '/' + filename, cv2.IMREAD_GRAYSCALE)\n",
    "        n_white_pix = np.sum(img > 0)\n",
    "        n_black_pix = np.sum(img == 0)\n",
    "        if (n_white_pix/n_black_pix)*100 < imb:\n",
    "            count = count + 1\n",
    "            os.remove(save_dir_mask + '/' + filename)\n",
    "            os.remove(save_dir_image + '/' + filename)\n",
    "    print(\"-> deleted img-msk: \", count)\n",
    "    print(\"-> remaining img-msk: \", (tot_imgs-count))"
   ]
  },
  {
   "cell_type": "markdown",
   "metadata": {},
   "source": [
    "## **INDIANA_TIF_1**"
   ]
  },
  {
   "cell_type": "code",
   "execution_count": 4,
   "metadata": {},
   "outputs": [
    {
     "name": "stdout",
     "output_type": "stream",
     "text": [
      "Total files in folder:  14946\n"
     ]
    },
    {
     "name": "stderr",
     "output_type": "stream",
     "text": [
      "C:\\Users\\Mateo\\AppData\\Local\\Temp\\ipykernel_5804\\4025059144.py:21: RuntimeWarning: divide by zero encountered in scalar divide\n",
      "  if (n_white_pix/n_black_pix)*100 < imb:\n"
     ]
    },
    {
     "name": "stdout",
     "output_type": "stream",
     "text": [
      "-> deleted img-msk:  14440\n",
      "-> remaining img-msk:  506\n"
     ]
    }
   ],
   "source": [
    "imbalance_check(1)"
   ]
  },
  {
   "cell_type": "markdown",
   "metadata": {},
   "source": [
    "## **INDIANA_TIF_2**"
   ]
  },
  {
   "cell_type": "code",
   "execution_count": 6,
   "metadata": {},
   "outputs": [
    {
     "name": "stdout",
     "output_type": "stream",
     "text": [
      "Total files in folder:  13527\n"
     ]
    },
    {
     "name": "stderr",
     "output_type": "stream",
     "text": [
      "C:\\Users\\Mateo\\AppData\\Local\\Temp\\ipykernel_12384\\781210601.py:20: RuntimeWarning: divide by zero encountered in scalar divide\n",
      "  if (n_white_pix/n_black_pix)*100 < imb:\n"
     ]
    },
    {
     "name": "stdout",
     "output_type": "stream",
     "text": [
      "-> deleted img-msk:  12682\n",
      "-> remaining img-msk:  845\n"
     ]
    }
   ],
   "source": [
    "imbalance_check(2)"
   ]
  },
  {
   "cell_type": "markdown",
   "metadata": {},
   "source": [
    "## **INDIANA_TIF_3**"
   ]
  },
  {
   "cell_type": "code",
   "execution_count": 7,
   "metadata": {},
   "outputs": [
    {
     "name": "stdout",
     "output_type": "stream",
     "text": [
      "Total files in folder:  7085\n"
     ]
    },
    {
     "name": "stderr",
     "output_type": "stream",
     "text": [
      "C:\\Users\\Mateo\\AppData\\Local\\Temp\\ipykernel_12384\\781210601.py:20: RuntimeWarning: divide by zero encountered in scalar divide\n",
      "  if (n_white_pix/n_black_pix)*100 < imb:\n"
     ]
    },
    {
     "name": "stdout",
     "output_type": "stream",
     "text": [
      "-> deleted img-msk:  6445\n",
      "-> remaining img-msk:  640\n"
     ]
    }
   ],
   "source": [
    "imbalance_check(3)"
   ]
  },
  {
   "cell_type": "markdown",
   "metadata": {},
   "source": [
    "## **INDIANA_TIF_4**"
   ]
  },
  {
   "cell_type": "code",
   "execution_count": 8,
   "metadata": {},
   "outputs": [
    {
     "name": "stdout",
     "output_type": "stream",
     "text": [
      "Total files in folder:  30294\n"
     ]
    },
    {
     "name": "stderr",
     "output_type": "stream",
     "text": [
      "C:\\Users\\Mateo\\AppData\\Local\\Temp\\ipykernel_12384\\781210601.py:20: RuntimeWarning: divide by zero encountered in scalar divide\n",
      "  if (n_white_pix/n_black_pix)*100 < imb:\n"
     ]
    },
    {
     "name": "stdout",
     "output_type": "stream",
     "text": [
      "-> deleted img-msk:  28780\n",
      "-> remaining img-msk:  1514\n"
     ]
    }
   ],
   "source": [
    "imbalance_check(4)"
   ]
  },
  {
   "attachments": {},
   "cell_type": "markdown",
   "metadata": {},
   "source": [
    "## **Rename**"
   ]
  },
  {
   "cell_type": "code",
   "execution_count": 5,
   "metadata": {},
   "outputs": [],
   "source": [
    "import cv2\n",
    "import numpy as np\n",
    "import os\n",
    "\n",
    "def rename_images(number_tif):\n",
    "    save_dir_image = f\"images/real_img/TIF_{number_tif}/\"\n",
    "    save_dir_mask = f\"images/mask/TIF_{number_tif}/\"\n",
    "\n",
    "    i = 1\n",
    "    for item in os.listdir(save_dir_image):\n",
    "        if item.endswith('.png'):\n",
    "            os.rename(os.path.join(save_dir_image,item),os.path.join(save_dir_image,(str(i)+'w'+'.png')))\n",
    "            #os.rename(os.path.join(mysource,item),os.path.join(mysource,(str(i)+'w'+'.tif')))\n",
    "            #os.rename(os.path.join(mysource,item),os.path.join(mysource,(str(i)+'.png')))\n",
    "            i += 1\n",
    "            print('-> Renamed:', i, end='\\r', flush=True)\n",
    "    print(\"El numero de imagenes renombradas es de:\", i-1)\n",
    "\n",
    "    j = 1\n",
    "    for item in os.listdir(save_dir_mask):\n",
    "        if item.endswith('.png'):\n",
    "            os.rename(os.path.join(save_dir_mask,item),os.path.join(save_dir_mask,(str(j)+'w'+'.png')))\n",
    "            #os.rename(os.path.join(mysource2,item),os.path.join(mysource2,(str(j)+'w'+'.tif')))\n",
    "            #os.rename(os.path.join(mysource2,item),os.path.join(mysource2,(str(j)+'.png')))\n",
    "            j += 1\n",
    "            print('-> Renamed:', j, end='\\r', flush=True)\n",
    "    print(\"El numero de mascaras renombradas es de:\", j-1)"
   ]
  },
  {
   "cell_type": "markdown",
   "metadata": {},
   "source": [
    "## **INDIANA_TIF_1**"
   ]
  },
  {
   "cell_type": "code",
   "execution_count": 6,
   "metadata": {},
   "outputs": [
    {
     "name": "stdout",
     "output_type": "stream",
     "text": [
      "El numero de imagenes renombradas es de: 506142 143 144 154 166 175 195 203 208 213 224 233 266 275 278 283 307 315 318 323 334 340 345 350 358 367 375 387 392 401 419 433 437 442 447 451 454 459 464 480 485 497 501 506\n",
      "El numero de mascaras renombradas es de: 506 66 79 83 88 101 119 120 125 145 150 163 167 171 173 175 210 218 227 232 237 238 247 267 275 282 289 303 306 311 320 345 350 356 364 371 384 388 406 420 423 449 464 470 475 486 491 501 507\n"
     ]
    }
   ],
   "source": [
    "rename_images(1)"
   ]
  },
  {
   "cell_type": "markdown",
   "metadata": {},
   "source": [
    "## **INDIANA_TIF_2**"
   ]
  },
  {
   "cell_type": "code",
   "execution_count": 11,
   "metadata": {},
   "outputs": [
    {
     "name": "stdout",
     "output_type": "stream",
     "text": [
      "El numero de imagenes renombradas es de:103 108 110 123 137 162 170 174 179 188 197 209 218 222 248 256 273 286 295 302 329 337 342 346 355 375 393 407 412 413 418 423 446 451 454 462 484 490 499 502 519 522 535 549 551 569 573 576 580 582 589 593 596 604 608 611 622 630 634 639 643 646 655 667 670 672 674 683 698 709 715 718 731 733 745 765 774 779 780 797 801 804 824 826 828 844 845\n",
      "El numero de mascaras renombradas es de: 84532 141 149 168 190 194 195 198 203 208 220 228 230 233 236 244 261 264 266 284 289 302 304 310 328 333 339 343 346 351 356 360 367 383 389 398 423 439 443 465 469 474 492 502 525 529 530 554 559 578 583 598 603 610 620 625 635 649 658 674 701 705 709 721 745 754 763 776 790 799 803 807 812 825 838\n"
     ]
    }
   ],
   "source": [
    "rename_images(2)"
   ]
  },
  {
   "cell_type": "markdown",
   "metadata": {},
   "source": [
    "## **INDIANA_TIF_3**"
   ]
  },
  {
   "cell_type": "code",
   "execution_count": 12,
   "metadata": {},
   "outputs": [
    {
     "name": "stdout",
     "output_type": "stream",
     "text": [
      "El numero de imagenes renombradas es de: 640116 136 146 149 159 164 168 182 185 203 212 217 222 227 240 244 249 268 273 278 280 307 328 335 339 352 357 361 370 375 380 382 391 414 419 427 437 450 454 458 461 475 479 483 487 495 508 524 535 540 545 550 574 579 582 588 593 608 614\n",
      "El numero de mascaras renombradas es de: 6408 103 115 127 141 154 164 169 174 185 200 210 220 233 238 251 260 265 294 310 314 315 320 322 325 333 338 343 351 365 380 385 399 412 421 425 429 438 452 457 462 471 476 481 485 490 495 505 510 513 523 533 538 547 589 594 599 609 614 629 636 641\n"
     ]
    }
   ],
   "source": [
    "rename_images(3)"
   ]
  },
  {
   "cell_type": "markdown",
   "metadata": {},
   "source": [
    "## **INDIANA_TIF_4**"
   ]
  },
  {
   "cell_type": "code",
   "execution_count": 13,
   "metadata": {},
   "outputs": [
    {
     "name": "stdout",
     "output_type": "stream",
     "text": [
      "El numero de imagenes renombradas es de: 1514 90 100 105 110 119 128 142 147 154 159 165 169 174 200 203 212 217 226 231 235 247 256 264 269 287 290 300 317 329 333 337 339 346 355 367 376 394 403 414 423 428 432 436 459 477 495 499 521 526 533 556 565 571 581 586 610 614 644 647 650 700 714 719 723 726 735 752 767 777 795 800 816 820 829 834 855 863 871 877 882 893 897 906 910 929 933 938 952 970 976 995 1003 1006 1013 1017 1026 1031 1035 1040 1051 1060 1066 1083 1085 1093 1098 1107 1112 1115 1117 1121 1148 1153 1157 1158 1162 1167 1171 1176 1182 1195 1200 1209 1213 1221 1226 1236 1260 1265 1268 1272 1277 1287 1321 1329 1342 1346 1355 1368 1377 1382 1397 1402 1416 1421 1425 1437 1442 1454 1459 1464 1490 1503 1512\n",
      "El numero de mascaras renombradas es de: 1514 99 121 132 159 167 197 209 218 246 255 260 265 268 273 278 286 324 328 337 342 343 348 353 363 365 374 408 446 458 470 478 487 496 500 512 529 533 538 543 551 555 565 577 579 595 598 602 606 614 624 626 634 642 647 662 687 698 704 710 715 724 728 736 742 746 760 768 799 808 822 831 836 840 851 864 868 869 887 890 903 906 914 923 926 931 936 966 971 983 998 1002 1008 1028 1032 1037 1042 1047 1074 1075 1076 1081 1095 1117 1122 1144 1155 1160 1177 1185 1193 1210 1228 1233 1243 1258 1259 1280 1287 1297 1302 1307 1322 1326 1327 1341 1366 1371 1375 1380 1385 1390 1400 1404 1408 1418 1423 1426 1445 1463 1480 1487 1508 1510\n"
     ]
    }
   ],
   "source": [
    "rename_images(4)"
   ]
  },
  {
   "attachments": {},
   "cell_type": "markdown",
   "metadata": {},
   "source": [
    "## **Comprobacion de vegetacion y lineas**"
   ]
  },
  {
   "cell_type": "code",
   "execution_count": 7,
   "metadata": {},
   "outputs": [],
   "source": [
    "import cv2\n",
    "import numpy as np\n",
    "import os\n",
    "\n",
    "def check_vegetation_lines(number_tif):\n",
    "    save_dir_image = f\"images/real_img/TIF_{number_tif}/\"\n",
    "    save_dir_mask = f\"images/mask/TIF_{number_tif}/\"\n",
    "\n",
    "    count = 0\n",
    "    imb = 10\n",
    "    \n",
    "\n",
    "    print(\"Total files in folder: \", len(os.listdir(save_dir_mask)))\n",
    "    tot_imgs = len(os.listdir(save_dir_mask))\n",
    "\n",
    "    for filename in (os.listdir(save_dir_mask)):\n",
    "        img = cv2.imread(save_dir_mask + '/' + filename)\n",
    "        # Buscar píxeles con valores de verde y gris\n",
    "        green_pixels = np.count_nonzero(img == 255)  # 255 es el valor de verde en escala de grises\n",
    "        gray_pixels = np.count_nonzero(img == 110)  # 110 es el valor de gris en escala de grises\n",
    "\n",
    "        # Comprobar si la imagen cumple la condición\n",
    "        if green_pixels == 0 or gray_pixels == 0:\n",
    "            count = count + 1\n",
    "            os.remove(save_dir_mask + '/' + filename)\n",
    "            os.remove(save_dir_image + '/' + filename)\n",
    "    print(\"-> deleted img-msk: \", count)\n",
    "    print(\"-> remaining img-msk: \", (tot_imgs-count))"
   ]
  },
  {
   "cell_type": "markdown",
   "metadata": {},
   "source": [
    "## **INDIANA_TIF_1**"
   ]
  },
  {
   "cell_type": "code",
   "execution_count": 8,
   "metadata": {},
   "outputs": [
    {
     "name": "stdout",
     "output_type": "stream",
     "text": [
      "Total files in folder:  506\n",
      "-> deleted img-msk:  391\n",
      "-> remaining img-msk:  115\n"
     ]
    }
   ],
   "source": [
    "check_vegetation_lines(1)"
   ]
  },
  {
   "cell_type": "markdown",
   "metadata": {},
   "source": [
    "## **INDIANA_TIF_2**"
   ]
  },
  {
   "cell_type": "code",
   "execution_count": 47,
   "metadata": {},
   "outputs": [
    {
     "name": "stdout",
     "output_type": "stream",
     "text": [
      "Total files in folder:  845\n",
      "-> deleted img-msk:  703\n",
      "-> remaining img-msk:  142\n"
     ]
    }
   ],
   "source": [
    "check_vegetation_lines(2)"
   ]
  },
  {
   "cell_type": "markdown",
   "metadata": {},
   "source": [
    "## **INDIANA_TIF_3**"
   ]
  },
  {
   "cell_type": "code",
   "execution_count": 48,
   "metadata": {},
   "outputs": [
    {
     "name": "stdout",
     "output_type": "stream",
     "text": [
      "Total files in folder:  640\n",
      "-> deleted img-msk:  555\n",
      "-> remaining img-msk:  85\n"
     ]
    }
   ],
   "source": [
    "check_vegetation_lines(3)"
   ]
  },
  {
   "cell_type": "markdown",
   "metadata": {},
   "source": [
    "## **INDIANA_TIF_4**"
   ]
  },
  {
   "cell_type": "code",
   "execution_count": 49,
   "metadata": {},
   "outputs": [
    {
     "name": "stdout",
     "output_type": "stream",
     "text": [
      "Total files in folder:  1514\n",
      "-> deleted img-msk:  1383\n",
      "-> remaining img-msk:  131\n"
     ]
    }
   ],
   "source": [
    "check_vegetation_lines(4)"
   ]
  },
  {
   "attachments": {},
   "cell_type": "markdown",
   "metadata": {},
   "source": [
    "## **Prueba**"
   ]
  },
  {
   "cell_type": "code",
   "execution_count": 18,
   "metadata": {},
   "outputs": [
    {
     "name": "stdout",
     "output_type": "stream",
     "text": [
      "number of msk chips of 256x256 produced were: 0\n"
     ]
    }
   ],
   "source": [
    "img_tiff = imread(\"images/tif_big/mask/new_prueba.tif\")\n",
    "img = Image.fromarray(img_tiff)\n",
    "width, height = img.size\n",
    "start_pos = start_x, start_y = (0, 0)\n",
    "w,h = 256,256\n",
    "frame_num = 1\n",
    "for col_i in range(0, width, w):\n",
    "    for row_i in range(0, height, h):\n",
    "        crop = img.crop((col_i, row_i, col_i + w, row_i + h))\n",
    "print('number of msk chips of ' + str(w) + 'x' + str(h) + \n",
    "    ' produced were:', frame_num-1)"
   ]
  },
  {
   "cell_type": "code",
   "execution_count": 7,
   "metadata": {},
   "outputs": [
    {
     "ename": "MemoryError",
     "evalue": "",
     "output_type": "error",
     "traceback": [
      "\u001b[1;31m---------------------------------------------------------------------------\u001b[0m",
      "\u001b[1;31mMemoryError\u001b[0m                               Traceback (most recent call last)",
      "Cell \u001b[1;32mIn[7], line 11\u001b[0m\n\u001b[0;32m      9\u001b[0m \u001b[39mfor\u001b[39;00m col_i \u001b[39min\u001b[39;00m \u001b[39mrange\u001b[39m(\u001b[39m0\u001b[39m, width, w):\n\u001b[0;32m     10\u001b[0m     \u001b[39mfor\u001b[39;00m row_i \u001b[39min\u001b[39;00m \u001b[39mrange\u001b[39m(\u001b[39m0\u001b[39m, height, h):\n\u001b[1;32m---> 11\u001b[0m         crop \u001b[39m=\u001b[39m img\u001b[39m.\u001b[39;49mcrop((col_i, row_i, col_i \u001b[39m+\u001b[39;49m w, row_i \u001b[39m+\u001b[39;49m h))\n\u001b[0;32m     12\u001b[0m \u001b[39mprint\u001b[39m(\u001b[39m'\u001b[39m\u001b[39mnumber of msk chips of \u001b[39m\u001b[39m'\u001b[39m \u001b[39m+\u001b[39m \u001b[39mstr\u001b[39m(w) \u001b[39m+\u001b[39m \u001b[39m'\u001b[39m\u001b[39mx\u001b[39m\u001b[39m'\u001b[39m \u001b[39m+\u001b[39m \u001b[39mstr\u001b[39m(h) \u001b[39m+\u001b[39m \n\u001b[0;32m     13\u001b[0m     \u001b[39m'\u001b[39m\u001b[39m produced were:\u001b[39m\u001b[39m'\u001b[39m, frame_num\u001b[39m-\u001b[39m\u001b[39m1\u001b[39m)\n",
      "File \u001b[1;32mc:\\Users\\Mateo\\AppData\\Local\\pypoetry\\Cache\\virtualenvs\\geoai_vegetation_encroachment-YqaE4ZDg-py3.10\\lib\\site-packages\\PIL\\Image.py:1233\u001b[0m, in \u001b[0;36mImage.crop\u001b[1;34m(self, box)\u001b[0m\n\u001b[0;32m   1230\u001b[0m     msg \u001b[39m=\u001b[39m \u001b[39m\"\u001b[39m\u001b[39mCoordinate \u001b[39m\u001b[39m'\u001b[39m\u001b[39mlower\u001b[39m\u001b[39m'\u001b[39m\u001b[39m is less than \u001b[39m\u001b[39m'\u001b[39m\u001b[39mupper\u001b[39m\u001b[39m'\u001b[39m\u001b[39m\"\u001b[39m\n\u001b[0;32m   1231\u001b[0m     \u001b[39mraise\u001b[39;00m \u001b[39mValueError\u001b[39;00m(msg)\n\u001b[1;32m-> 1233\u001b[0m \u001b[39mself\u001b[39;49m\u001b[39m.\u001b[39;49mload()\n\u001b[0;32m   1234\u001b[0m \u001b[39mreturn\u001b[39;00m \u001b[39mself\u001b[39m\u001b[39m.\u001b[39m_new(\u001b[39mself\u001b[39m\u001b[39m.\u001b[39m_crop(\u001b[39mself\u001b[39m\u001b[39m.\u001b[39mim, box))\n",
      "File \u001b[1;32mc:\\Users\\Mateo\\AppData\\Local\\pypoetry\\Cache\\virtualenvs\\geoai_vegetation_encroachment-YqaE4ZDg-py3.10\\lib\\site-packages\\PIL\\TiffImagePlugin.py:1196\u001b[0m, in \u001b[0;36mTiffImageFile.load\u001b[1;34m(self)\u001b[0m\n\u001b[0;32m   1194\u001b[0m \u001b[39mdef\u001b[39;00m \u001b[39mload\u001b[39m(\u001b[39mself\u001b[39m):\n\u001b[0;32m   1195\u001b[0m     \u001b[39mif\u001b[39;00m \u001b[39mself\u001b[39m\u001b[39m.\u001b[39mtile \u001b[39mand\u001b[39;00m \u001b[39mself\u001b[39m\u001b[39m.\u001b[39muse_load_libtiff:\n\u001b[1;32m-> 1196\u001b[0m         \u001b[39mreturn\u001b[39;00m \u001b[39mself\u001b[39;49m\u001b[39m.\u001b[39;49m_load_libtiff()\n\u001b[0;32m   1197\u001b[0m     \u001b[39mreturn\u001b[39;00m \u001b[39msuper\u001b[39m()\u001b[39m.\u001b[39mload()\n",
      "File \u001b[1;32mc:\\Users\\Mateo\\AppData\\Local\\pypoetry\\Cache\\virtualenvs\\geoai_vegetation_encroachment-YqaE4ZDg-py3.10\\lib\\site-packages\\PIL\\TiffImagePlugin.py:1236\u001b[0m, in \u001b[0;36mTiffImageFile._load_libtiff\u001b[1;34m(self)\u001b[0m\n\u001b[0;32m   1231\u001b[0m \u001b[39m\u001b[39m\u001b[39m\"\"\"Overload method triggered when we detect a compressed tiff\u001b[39;00m\n\u001b[0;32m   1232\u001b[0m \u001b[39mCalls out to libtiff\"\"\"\u001b[39;00m\n\u001b[0;32m   1234\u001b[0m Image\u001b[39m.\u001b[39mImage\u001b[39m.\u001b[39mload(\u001b[39mself\u001b[39m)\n\u001b[1;32m-> 1236\u001b[0m \u001b[39mself\u001b[39;49m\u001b[39m.\u001b[39;49mload_prepare()\n\u001b[0;32m   1238\u001b[0m \u001b[39mif\u001b[39;00m \u001b[39mnot\u001b[39;00m \u001b[39mlen\u001b[39m(\u001b[39mself\u001b[39m\u001b[39m.\u001b[39mtile) \u001b[39m==\u001b[39m \u001b[39m1\u001b[39m:\n\u001b[0;32m   1239\u001b[0m     msg \u001b[39m=\u001b[39m \u001b[39m\"\u001b[39m\u001b[39mNot exactly one tile\u001b[39m\u001b[39m\"\u001b[39m\n",
      "File \u001b[1;32mc:\\Users\\Mateo\\AppData\\Local\\pypoetry\\Cache\\virtualenvs\\geoai_vegetation_encroachment-YqaE4ZDg-py3.10\\lib\\site-packages\\PIL\\ImageFile.py:295\u001b[0m, in \u001b[0;36mImageFile.load_prepare\u001b[1;34m(self)\u001b[0m\n\u001b[0;32m    292\u001b[0m \u001b[39mdef\u001b[39;00m \u001b[39mload_prepare\u001b[39m(\u001b[39mself\u001b[39m):\n\u001b[0;32m    293\u001b[0m     \u001b[39m# create image memory if necessary\u001b[39;00m\n\u001b[0;32m    294\u001b[0m     \u001b[39mif\u001b[39;00m \u001b[39mnot\u001b[39;00m \u001b[39mself\u001b[39m\u001b[39m.\u001b[39mim \u001b[39mor\u001b[39;00m \u001b[39mself\u001b[39m\u001b[39m.\u001b[39mim\u001b[39m.\u001b[39mmode \u001b[39m!=\u001b[39m \u001b[39mself\u001b[39m\u001b[39m.\u001b[39mmode \u001b[39mor\u001b[39;00m \u001b[39mself\u001b[39m\u001b[39m.\u001b[39mim\u001b[39m.\u001b[39msize \u001b[39m!=\u001b[39m \u001b[39mself\u001b[39m\u001b[39m.\u001b[39msize:\n\u001b[1;32m--> 295\u001b[0m         \u001b[39mself\u001b[39m\u001b[39m.\u001b[39mim \u001b[39m=\u001b[39m Image\u001b[39m.\u001b[39;49mcore\u001b[39m.\u001b[39;49mnew(\u001b[39mself\u001b[39;49m\u001b[39m.\u001b[39;49mmode, \u001b[39mself\u001b[39;49m\u001b[39m.\u001b[39;49msize)\n\u001b[0;32m    296\u001b[0m     \u001b[39m# create palette (optional)\u001b[39;00m\n\u001b[0;32m    297\u001b[0m     \u001b[39mif\u001b[39;00m \u001b[39mself\u001b[39m\u001b[39m.\u001b[39mmode \u001b[39m==\u001b[39m \u001b[39m\"\u001b[39m\u001b[39mP\u001b[39m\u001b[39m\"\u001b[39m:\n",
      "\u001b[1;31mMemoryError\u001b[0m: "
     ]
    }
   ],
   "source": [
    "#img = Image.open(\"images/tif_big/mask/INDIANA2_MASK.tif\")\n",
    "#img_tiff = imread(\"images/tif_big/mask/tif2.tif\")\n",
    "#img = Image.fromarray(img_tiff)\n",
    "img = Image.open(\"images/tif_big/mask/tif3.tif\")\n",
    "width, height = img.size\n",
    "start_pos = start_x, start_y = (0, 0)\n",
    "w,h = 256,256\n",
    "frame_num = 1\n",
    "for col_i in range(0, width, w):\n",
    "    for row_i in range(0, height, h):\n",
    "        crop = img.crop((col_i, row_i, col_i + w, row_i + h))\n",
    "print('number of msk chips of ' + str(w) + 'x' + str(h) + \n",
    "    ' produced were:', frame_num-1)"
   ]
  },
  {
   "cell_type": "code",
   "execution_count": 3,
   "metadata": {},
   "outputs": [
    {
     "name": "stdout",
     "output_type": "stream",
     "text": [
      "3263\r"
     ]
    },
    {
     "ename": "KeyboardInterrupt",
     "evalue": "",
     "output_type": "error",
     "traceback": [
      "\u001b[1;31m---------------------------------------------------------------------------\u001b[0m",
      "\u001b[1;31mKeyboardInterrupt\u001b[0m                         Traceback (most recent call last)",
      "Cell \u001b[1;32mIn[3], line 11\u001b[0m\n\u001b[0;32m      9\u001b[0m \u001b[39mfor\u001b[39;00m col_i \u001b[39min\u001b[39;00m \u001b[39mrange\u001b[39m(\u001b[39m0\u001b[39m, width, w):\n\u001b[0;32m     10\u001b[0m     \u001b[39mfor\u001b[39;00m row_i \u001b[39min\u001b[39;00m \u001b[39mrange\u001b[39m(\u001b[39m0\u001b[39m, height, h):\n\u001b[1;32m---> 11\u001b[0m         crop \u001b[39m=\u001b[39m img\u001b[39m.\u001b[39;49mcrop((col_i, row_i, col_i \u001b[39m+\u001b[39;49m w, row_i \u001b[39m+\u001b[39;49m h))\n\u001b[0;32m     12\u001b[0m         save_to\u001b[39m=\u001b[39m os\u001b[39m.\u001b[39mpath\u001b[39m.\u001b[39mjoin(save_dir_mask \u001b[39m+\u001b[39m \u001b[39m\"\u001b[39m\u001b[39m{:1}\u001b[39;00m\u001b[39m.png\u001b[39m\u001b[39m\"\u001b[39m)\n\u001b[0;32m     13\u001b[0m         crop\u001b[39m.\u001b[39msave(save_to\u001b[39m.\u001b[39mformat(frame_num))\n",
      "File \u001b[1;32mc:\\Users\\Mateo\\AppData\\Local\\pypoetry\\Cache\\virtualenvs\\geoai_vegetation_encroachment-YqaE4ZDg-py3.10\\lib\\site-packages\\PIL\\Image.py:1234\u001b[0m, in \u001b[0;36mImage.crop\u001b[1;34m(self, box)\u001b[0m\n\u001b[0;32m   1231\u001b[0m     \u001b[39mraise\u001b[39;00m \u001b[39mValueError\u001b[39;00m(msg)\n\u001b[0;32m   1233\u001b[0m \u001b[39mself\u001b[39m\u001b[39m.\u001b[39mload()\n\u001b[1;32m-> 1234\u001b[0m \u001b[39mreturn\u001b[39;00m \u001b[39mself\u001b[39m\u001b[39m.\u001b[39m_new(\u001b[39mself\u001b[39;49m\u001b[39m.\u001b[39;49m_crop(\u001b[39mself\u001b[39;49m\u001b[39m.\u001b[39;49mim, box))\n",
      "File \u001b[1;32mc:\\Users\\Mateo\\AppData\\Local\\pypoetry\\Cache\\virtualenvs\\geoai_vegetation_encroachment-YqaE4ZDg-py3.10\\lib\\site-packages\\PIL\\Image.py:1254\u001b[0m, in \u001b[0;36mImage._crop\u001b[1;34m(self, im, box)\u001b[0m\n\u001b[0;32m   1250\u001b[0m absolute_values \u001b[39m=\u001b[39m (\u001b[39mabs\u001b[39m(x1 \u001b[39m-\u001b[39m x0), \u001b[39mabs\u001b[39m(y1 \u001b[39m-\u001b[39m y0))\n\u001b[0;32m   1252\u001b[0m _decompression_bomb_check(absolute_values)\n\u001b[1;32m-> 1254\u001b[0m \u001b[39mreturn\u001b[39;00m im\u001b[39m.\u001b[39;49mcrop((x0, y0, x1, y1))\n",
      "\u001b[1;31mKeyboardInterrupt\u001b[0m: "
     ]
    }
   ],
   "source": [
    "#img = Image.open(\"images/tif_big/mask/INDIANA2_MASK.tif\")\n",
    "save_dir_mask = \"images/mask/TIF_4/\"\n",
    "img_tiff = imread(\"images/tif_big/mask/tif2.tif\")\n",
    "img = Image.fromarray(img_tiff)\n",
    "width, height = img.size\n",
    "start_pos = start_x, start_y = (0, 0)\n",
    "w,h = 256,256\n",
    "frame_num = 1\n",
    "for col_i in range(0, width, w):\n",
    "    for row_i in range(0, height, h):\n",
    "        crop = img.crop((col_i, row_i, col_i + w, row_i + h))\n",
    "        save_to= os.path.join(save_dir_mask + \"{:1}.png\")\n",
    "        crop.save(save_to.format(frame_num))\n",
    "        print(frame_num, end='\\r', flush=True)\n",
    "        frame_num += 1\n",
    "print('number of msk chips of ' + str(w) + 'x' + str(h) + \n",
    "    ' produced were:', frame_num-1)"
   ]
  },
  {
   "cell_type": "code",
   "execution_count": null,
   "metadata": {},
   "outputs": [],
   "source": [
    "#img = Image.open(\"images/tif_big/mask/INDIANA2_MASK.tif\")\n",
    "img = Image.open(\"images/tif_big/real_images/tif1.tif\")\n",
    "width, height = img.size\n",
    "start_pos = start_x, start_y = (0, 0)\n",
    "\n",
    "print(width, height)\n",
    "frame_num = 1\n",
    "for col_i in range(0, width, 256):\n",
    "    for row_i in range(0, height, 256):\n",
    "        crop = img.crop((col_i, row_i, col_i + 256, row_i + 256))\n",
    "        print(row_i)"
   ]
  }
 ],
 "metadata": {
  "kernelspec": {
   "display_name": "Python 3.10.5 ('venv')",
   "language": "python",
   "name": "python3"
  },
  "language_info": {
   "codemirror_mode": {
    "name": "ipython",
    "version": 3
   },
   "file_extension": ".py",
   "mimetype": "text/x-python",
   "name": "python",
   "nbconvert_exporter": "python",
   "pygments_lexer": "ipython3",
   "version": "3.10.5"
  },
  "orig_nbformat": 4,
  "vscode": {
   "interpreter": {
    "hash": "14df3589977874f0e03afb7bd5dc51aa9e523fba4f47e37972981b0cbab3ffb3"
   }
  }
 },
 "nbformat": 4,
 "nbformat_minor": 2
}
