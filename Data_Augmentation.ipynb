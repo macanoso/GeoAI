{
  "nbformat": 4,
  "nbformat_minor": 0,
  "metadata": {
    "colab": {
      "provenance": [],
      "authorship_tag": "ABX9TyO5/lvPTm/piu2Hb5970p9G"
    },
    "kernelspec": {
      "name": "python3",
      "display_name": "Python 3"
    },
    "language_info": {
      "name": "python"
    }
  },
  "cells": [
    {
      "cell_type": "markdown",
      "source": [
        "# **Deep Learning Exploration**"
      ],
      "metadata": {
        "id": "bnwwVhIKI7wy"
      }
    },
    {
      "cell_type": "markdown",
      "source": [
        "## **Load Data**"
      ],
      "metadata": {
        "id": "r7fvJ9xfJAC3"
      }
    },
    {
      "cell_type": "code",
      "source": [
        "from google.colab import drive\n",
        "drive.mount('/content/drive', force_remount=True)"
      ],
      "metadata": {
        "colab": {
          "base_uri": "https://localhost:8080/"
        },
        "id": "6XkCKGMt8uBZ",
        "outputId": "f2b593bf-3192-4fe5-d139-f8735a2595d2"
      },
      "execution_count": 24,
      "outputs": [
        {
          "output_type": "stream",
          "name": "stdout",
          "text": [
            "Mounted at /content/drive\n"
          ]
        }
      ]
    },
    {
      "cell_type": "code",
      "source": [
        "root_dir = \"/content/drive/My Drive/\"\n",
        "personal_dir = 'Repo_Tesis/' \n",
        "base_dir = root_dir + personal_dir\n",
        "print(base_dir)"
      ],
      "metadata": {
        "colab": {
          "base_uri": "https://localhost:8080/"
        },
        "id": "l5DJK0r384jq",
        "outputId": "3edc1a2c-3ccb-440d-dd96-af5288d83eb5"
      },
      "execution_count": 25,
      "outputs": [
        {
          "output_type": "stream",
          "name": "stdout",
          "text": [
            "/content/drive/My Drive/Repo_Tesis/\n"
          ]
        }
      ]
    },
    {
      "cell_type": "markdown",
      "source": [
        "## **Data Augmentation**"
      ],
      "metadata": {
        "id": "zr4qEy16JGA_"
      }
    },
    {
      "cell_type": "markdown",
      "source": [
        "En este apartado se genera la aumentación de datos, buscando que la aumentación sea aplicada a ambas clases se crean dos generadores con las mismas caracteristicas y posterior a eso se embeben en un iterable. Esta aumentación se le aplica a cada una de las imagenes y mascaras y se obtiene dos carpetas una con mascaras aumentadas y una con imagenes aumentadas, que posterior a esto se pueden usar para entrenar redes neuronales. "
      ],
      "metadata": {
        "id": "fZ8QdGnjJJ4L"
      }
    },
    {
      "cell_type": "code",
      "source": [
        "import numpy as np\n",
        "import tensorflow as tf\n",
        "from tensorflow.keras.preprocessing.image import ImageDataGenerator\n",
        "from PIL import Image\n",
        "import os\n",
        "\n",
        "\n",
        "# Define el nombre de la carpeta donde se guardarán las imágenes generadas\n",
        "output_dir = os.path.join(base_dir, 'augmented_images')\n",
        "\n",
        "# Crea las carpetas si aún no existen\n",
        "if not os.path.exists(os.path.join(output_dir, 'mask')):\n",
        "    os.makedirs(os.path.join(output_dir, 'mask'))\n",
        "if not os.path.exists(os.path.join(output_dir, 'real_image')):\n",
        "    os.makedirs(os.path.join(output_dir, 'real_image'))\n",
        "\n",
        "# Define un generador de imágenes de entrenamiento para la imagen de máscara y para la imagen real\n",
        "train_datagen_mask = ImageDataGenerator(\n",
        "    rescale=1./255,\n",
        "    rotation_range=20,\n",
        "    width_shift_range=0.1,\n",
        "    height_shift_range=0.1,\n",
        "    shear_range=0.2,\n",
        "    zoom_range=0.2,\n",
        "    horizontal_flip=True,\n",
        "    fill_mode='nearest')\n",
        "\n",
        "train_datagen_real = ImageDataGenerator(\n",
        "    rescale=1./255,\n",
        "    rotation_range=20,\n",
        "    width_shift_range=0.1,\n",
        "    height_shift_range=0.1,\n",
        "    shear_range=0.2,\n",
        "    zoom_range=0.2,\n",
        "    horizontal_flip=True,\n",
        "    fill_mode='nearest')\n",
        "\n",
        "# Carga las imágenes de máscara y de imágenes reales\n",
        "train_generator_mask = train_datagen_mask.flow_from_directory(\n",
        "    os.path.join(base_dir, 'Training/mask'),\n",
        "    target_size=(256, 256),\n",
        "    batch_size=32,\n",
        "    class_mode='binary',\n",
        "    shuffle=True,\n",
        "    seed=42)\n",
        "\n",
        "train_generator_real = train_datagen_real.flow_from_directory(\n",
        "    os.path.join(base_dir, 'Training/real_img'),\n",
        "    target_size=(256, 256),\n",
        "    batch_size=32,\n",
        "    class_mode='binary',\n",
        "    shuffle=True,\n",
        "    seed=42)\n",
        "\n",
        "# Genera las imágenes aumentadas y guárdalas en las carpetas correspondientes\n",
        "num_augmented_images = 10 # número de imágenes aumentadas por cada imagen original\n",
        "\n",
        "for folder in os.listdir(os.path.join(base_dir, 'Training/mask')):\n",
        "    if not os.path.exists(os.path.join(output_dir, 'mask', folder)):\n",
        "        os.makedirs(os.path.join(output_dir, 'mask', folder))\n",
        "    if not os.path.exists(os.path.join(output_dir, 'real_image', folder)):\n",
        "        os.makedirs(os.path.join(output_dir, 'real_image', folder))\n",
        "    \n",
        "    for i in range(num_augmented_images):\n",
        "        batch_mask, batch_real = next(zip(train_generator_mask, train_generator_real))\n",
        "        augmented_images_mask = train_datagen_mask.flow(batch_mask[0], batch_mask[1]).next()[0]\n",
        "        augmented_images_real = train_datagen_real.flow(batch_real[0], batch_real[1]).next()[0]\n",
        "\n",
        "        for j in range(augmented_images_mask.shape[0]):\n",
        "            Image.fromarray((augmented_images_mask[j]*255/np.max(augmented_images_mask[j])).astype('uint8')).save(os.path.join(output_dir, 'mask', folder, 'augmented_' + str(i) + str(j) + '.jpg'))\n",
        "            Image.fromarray((augmented_images_real[j]*255/np.max(augmented_images_real[j])).astype('uint8')).save(os.path.join(output_dir, 'real_image', folder, 'augmented_' + str(i) + str(j) + '.jpg'))\n"
      ],
      "metadata": {
        "colab": {
          "base_uri": "https://localhost:8080/"
        },
        "id": "nQvem852D6Qu",
        "outputId": "5e500c36-7917-4978-93eb-14c03c0e897d"
      },
      "execution_count": 31,
      "outputs": [
        {
          "output_type": "stream",
          "name": "stdout",
          "text": [
            "Found 532 images belonging to 4 classes.\n",
            "Found 532 images belonging to 4 classes.\n"
          ]
        }
      ]
    },
    {
      "cell_type": "markdown",
      "source": [
        "## **Pruebas adicionales de data augmentation**"
      ],
      "metadata": {
        "id": "1gi_yiahJ608"
      }
    },
    {
      "cell_type": "markdown",
      "source": [
        "PD: No correr, esta en fase de prueba"
      ],
      "metadata": {
        "id": "1CD8bZ9PJ-0H"
      }
    },
    {
      "cell_type": "code",
      "execution_count": 26,
      "metadata": {
        "colab": {
          "base_uri": "https://localhost:8080/"
        },
        "id": "XdkDB9O28g75",
        "outputId": "0f8370fb-a6ac-47f3-e00a-e4580c8c5c27"
      },
      "outputs": [
        {
          "output_type": "stream",
          "name": "stdout",
          "text": [
            "Found 532 images belonging to 2 classes.\n"
          ]
        }
      ],
      "source": [
        "import tensorflow as tf\n",
        "from tensorflow.keras.preprocessing.image import ImageDataGenerator\n",
        "from PIL import Image\n",
        "import os\n",
        "\n",
        "# Define el nombre de la carpeta donde se guardarán las imágenes generadas\n",
        "output_dir = os.path.join(base_dir, 'augmented_images')\n",
        "\n",
        "# Crea las carpetas si aún no existen\n",
        "if not os.path.exists(os.path.join(output_dir, 'mask')):\n",
        "    os.makedirs(os.path.join(output_dir, 'mask'))\n",
        "if not os.path.exists(os.path.join(output_dir, 'real_image')):\n",
        "    os.makedirs(os.path.join(output_dir, 'real_image'))\n",
        "\n",
        "# Define un generador de imágenes de entrenamiento para la imagen de máscara\n",
        "train_datagen = ImageDataGenerator(\n",
        "    rescale=1./255,\n",
        "    rotation_range=20,\n",
        "    width_shift_range=0.1,\n",
        "    height_shift_range=0.1,\n",
        "    shear_range=0.2,\n",
        "    zoom_range=0.2,\n",
        "    horizontal_flip=True,\n",
        "    fill_mode='nearest')\n",
        "\n",
        "\n",
        "# Carga las imágenes de máscara y de imágenes reales\n",
        "train_generator = train_datagen.flow_from_directory(\n",
        "       os.path.join(base_dir, 'Training'),\n",
        "        target_size=(256, 256),\n",
        "        batch_size=32,\n",
        "        class_mode='categorical', \n",
        "        classes=['mask', 'real_ima'])"
      ]
    },
    {
      "cell_type": "code",
      "source": [
        "# Define el nombre de la carpeta donde se guardarán las imágenes generadas\n",
        "output_dir = os.path.join(base_dir, 'data_augmentation')\n",
        "\n",
        "# Crea las carpetas si aún no existen\n",
        "if not os.path.exists(os.path.join(output_dir, 'mask')):\n",
        "    os.makedirs(os.path.join(output_dir, 'mask'))\n",
        "if not os.path.exists(os.path.join(output_dir, 'real_image')):\n",
        "    os.makedirs(os.path.join(output_dir, 'real_image'))\n",
        "\n",
        "# Define un generador de imágenes de entrenamiento para ambas carpetas\n",
        "train_datagen = ImageDataGenerator(\n",
        "    rescale=1./255,\n",
        "    rotation_range=20,\n",
        "    width_shift_range=0.1,\n",
        "    height_shift_range=0.1,\n",
        "    shear_range=0.2,\n",
        "    zoom_range=0.2,\n",
        "    horizontal_flip=True,\n",
        "    fill_mode='nearest')\n",
        "\n",
        "# Carga las imágenes de máscara y de imágenes reales\n",
        "train_mask_generator = train_datagen.flow_from_directory(\n",
        "    os.path.join(base_dir, 'Training/mask'),\n",
        "    target_size=(256, 256),\n",
        "    batch_size=32,\n",
        "    class_mode='categorical', \n",
        "    save_to_dir=os.path.join(output_dir, 'mask'),\n",
        "    save_prefix='mask_')\n",
        "\n",
        "train_real_generator = train_datagen.flow_from_directory(\n",
        "    os.path.join(base_dir, 'Training/real_img'),\n",
        "    target_size=(256, 256),\n",
        "    batch_size=32,\n",
        "    class_mode='categorical', \n",
        "    save_to_dir=os.path.join(output_dir, 'real_image'),\n",
        "    save_prefix='real_')\n",
        "\n",
        "# Combina los generadores de ambas carpetas en un solo generador\n",
        "train_generator = zip(train_mask_generator, train_real_generator)\n"
      ],
      "metadata": {
        "colab": {
          "base_uri": "https://localhost:8080/"
        },
        "id": "YUQ_d_uNC0_F",
        "outputId": "f63d0ae9-62b5-4e0b-a3e0-60f079316857"
      },
      "execution_count": 13,
      "outputs": [
        {
          "output_type": "stream",
          "name": "stdout",
          "text": [
            "Found 532 images belonging to 4 classes.\n",
            "Found 532 images belonging to 4 classes.\n"
          ]
        }
      ]
    },
    {
      "cell_type": "code",
      "source": [
        "# Generar y guardar imágenes con data augmentation\n",
        "for i, (mask_batch, real_image_batch) in enumerate(train_generator):\n",
        "    # Generar imágenes aumentadas\n",
        "    mask_augmented_images = mask_datagen.flow(\n",
        "        mask_batch[0], batch_size=32, save_to_dir=os.path.join(output_dir, 'mask'), save_prefix='aug_', save_format='png')\n",
        "    real_image_augmented_images = real_image_datagen.flow(\n",
        "        real_image_batch[0], batch_size=32, save_to_dir=os.path.join(output_dir, 'real_image'), save_prefix='aug_', save_format='png')\n",
        "\n",
        "    # Guardar imágenes aumentadas\n",
        "    for j in range(len(mask_batch[0])):\n",
        "        mask_augmented_image = mask_augmented_images[j]\n",
        "        real_image_augmented_image = real_image_augmented_images[j]\n",
        "        mask_orig_image_path = mask_orig_images.filenames[i * 32 + j]\n",
        "        real_image_orig_image_path = real_image_orig_images.filenames[i * 32 + j]\n",
        "        mask_orig_image_name = os.path.basename(mask_orig_image_path)\n",
        "        real_image_orig_image_name = os.path.basename(real_image_orig_image_path)\n",
        "        mask_orig_image_dir = os.path.dirname(mask_orig_image_path)\n",
        "        real_image_orig_image_dir = os.path.dirname(real_image_orig_image_path)\n",
        "\n",
        "        mask_augmented_image_path = os.path.join(\n",
        "            output_dir, 'mask', mask_orig_image_dir, 'aug_' + mask_orig_image_name)\n",
        "        real_image_augmented_image_path = os.path.join(\n",
        "            output_dir, 'real_image', real_image_orig_image_dir, 'aug_' + real_image_orig_image_name)\n",
        "\n",
        "        mask_augmented_image.save(mask_augmented_image_path)\n",
        "        real_image_augmented_image.save(real_image_augmented_image_path)\n",
        "\n",
        "    # Salir del ciclo después de generar y guardar 100 imágenes aumentadas\n",
        "    if i >= 3:\n",
        "        break\n"
      ],
      "metadata": {
        "id": "LuSOp--j9qxl"
      },
      "execution_count": null,
      "outputs": []
    }
  ]
}