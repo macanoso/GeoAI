{
  "nbformat": 4,
  "nbformat_minor": 0,
  "metadata": {
    "colab": {
      "provenance": [],
      "authorship_tag": "ABX9TyMdrFAJRrq7Tueqt2YfA8n2"
    },
    "kernelspec": {
      "name": "python3",
      "display_name": "Python 3"
    },
    "language_info": {
      "name": "python"
    }
  },
  "cells": [
    {
      "cell_type": "markdown",
      "source": [
        "# **Deep Learning Exploration**"
      ],
      "metadata": {
        "id": "bnwwVhIKI7wy"
      }
    },
    {
      "cell_type": "markdown",
      "source": [
        "## **Load Data**"
      ],
      "metadata": {
        "id": "r7fvJ9xfJAC3"
      }
    },
    {
      "cell_type": "code",
      "source": [
        "from google.colab import drive\n",
        "drive.mount('/content/drive', force_remount=True)"
      ],
      "metadata": {
        "colab": {
          "base_uri": "https://localhost:8080/"
        },
        "id": "6XkCKGMt8uBZ",
        "outputId": "bf59becc-1a59-4cba-cc1e-4341c92b09b1"
      },
      "execution_count": 1,
      "outputs": [
        {
          "output_type": "stream",
          "name": "stdout",
          "text": [
            "Mounted at /content/drive\n"
          ]
        }
      ]
    },
    {
      "cell_type": "code",
      "source": [
        "root_dir = \"/content/drive/My Drive/\"\n",
        "personal_dir = 'Repo_Tesis/' \n",
        "base_dir = root_dir + personal_dir\n",
        "print(base_dir)"
      ],
      "metadata": {
        "colab": {
          "base_uri": "https://localhost:8080/"
        },
        "id": "l5DJK0r384jq",
        "outputId": "cd44b7bf-d7cd-476a-9e9c-de2e622e574a"
      },
      "execution_count": 1,
      "outputs": [
        {
          "output_type": "stream",
          "name": "stdout",
          "text": [
            "/content/drive/My Drive/Repo_Tesis/\n"
          ]
        }
      ]
    },
    {
      "cell_type": "markdown",
      "source": [
        "## **Data Augmentation**"
      ],
      "metadata": {
        "id": "zr4qEy16JGA_"
      }
    },
    {
      "cell_type": "markdown",
      "source": [
        "En este apartado se genera la aumentación de datos, buscando que la aumentación sea aplicada a ambas clases se crean dos generadores con las mismas caracteristicas y posterior a eso se embeben en un iterable. Esta aumentación se le aplica a cada una de las imagenes y mascaras y se obtiene dos carpetas una con mascaras aumentadas y una con imagenes aumentadas, que posterior a esto se pueden usar para entrenar redes neuronales. "
      ],
      "metadata": {
        "id": "fZ8QdGnjJJ4L"
      }
    },
    {
      "cell_type": "code",
      "source": [
        "import os\n",
        "import shutil\n",
        "\n",
        "# Carpeta de origen\n",
        "src_folder = os.path.join(base_dir, 'Training')\n",
        "\n",
        "# Carpeta de destino principal\n",
        "dst_folder = os.path.join(base_dir, 'Train_v2')\n",
        "if not os.path.exists(dst_folder):\n",
        "    os.makedirs(dst_folder)\n",
        "\n",
        "# Carpeta de destino para imágenes reales\n",
        "dst_real_folder = os.path.join(dst_folder, \"real_img\")\n",
        "if not os.path.exists(dst_real_folder):\n",
        "    os.makedirs(dst_real_folder)\n",
        "\n",
        "# Carpeta de destino para máscaras\n",
        "dst_mask_folder = os.path.join(dst_folder, \"mask\")\n",
        "if not os.path.exists(dst_mask_folder):\n",
        "    os.makedirs(dst_mask_folder)\n",
        "\n",
        "# Contadores para reenumerar\n",
        "real_count = 1\n",
        "mask_count = 1\n",
        "\n",
        "# Iterar a través de las carpetas de origen\n",
        "for i in range (1,5):\n",
        "  tif_path = os.path.join(src_folder, \"real_img\", f'TIF_{i}')\n",
        "  mask_path = os.path.join(src_folder, \"mask\", f'TIF_{i}')\n",
        "\n",
        "    # Copiar imágenes reales a la carpeta de destino\n",
        "  for img_file in os.listdir(tif_path):\n",
        "    real_dst_path = os.path.join(dst_real_folder, f\"{real_count}.png\")\n",
        "    mask_dst_path = os.path.join(dst_mask_folder, f\"{mask_count}.png\")\n",
        "    shutil.copy2(\n",
        "              os.path.join(tif_path, img_file),\n",
        "              real_dst_path\n",
        "              )\n",
        "    shutil.copy2(\n",
        "              os.path.join(mask_path, img_file),\n",
        "              mask_dst_path\n",
        "              )\n",
        "    real_count += 1\n",
        "    mask_count += 1\n",
        "\n",
        "print(\"Listo!\")"
      ],
      "metadata": {
        "id": "4RtvlNcZCADX"
      },
      "execution_count": 2,
      "outputs": []
    },
    {
      "cell_type": "code",
      "source": [
        "import os\n",
        "import cv2\n",
        "from tqdm import tqdm\n",
        "from glob import glob\n",
        "from albumentations import CenterCrop, RandomRotate90, GridDistortion, HorizontalFlip, VerticalFlip\n",
        "\n",
        "output_dir = os.path.join(base_dir, 'augmented_images_v2')\n",
        "\n",
        "def load_data():\n",
        "     images = sorted([os.path.join(base_dir, 'Train_v2/real_img', i) for i in os.listdir(os.path.join(base_dir, \"Train_v2/real_img\"))])     \n",
        "     masks = sorted([os.path.join(base_dir, 'Train_v2/mask', i) for i in os.listdir(os.path.join(base_dir, \"Train_v2/mask\"))])\n",
        "     return images, masks"
      ],
      "metadata": {
        "id": "1MILZCih2jZE"
      },
      "execution_count": 2,
      "outputs": []
    },
    {
      "cell_type": "code",
      "source": [
        "def augment_data(images, masks, save_path, augment=True):\n",
        "    H = 256\n",
        "    W = 256\n",
        "    \n",
        "    for x, y in tqdm(zip(images, masks), total=len(images)):\n",
        "        name = x.split(\"/\")[-1].split(\".\")\n",
        "        \"\"\" Extracting the name and extension of the image and the mask. \"\"\"\n",
        "        image_name = name[0]\n",
        "        image_extn = name[1]\n",
        "\n",
        "        name = y.split(\"/\")[-1].split(\".\")\n",
        "        mask_name = name[0]\n",
        "        mask_extn = name[1]\n",
        "\n",
        "        \"\"\" Reading image and mask. \"\"\"\n",
        "        x = cv2.imread(x, cv2.IMREAD_COLOR)\n",
        "        y = cv2.imread(y, cv2.IMREAD_COLOR)\n",
        "\n",
        "        \"\"\" Augmentation \"\"\"\n",
        "        if augment == True:\n",
        "            aug = CenterCrop(H, W, p=1.0)\n",
        "            augmented = aug(image=x, mask=y)\n",
        "            x1 = augmented[\"image\"]\n",
        "            y1 = augmented[\"mask\"]\n",
        "\n",
        "            aug = RandomRotate90(p=1.0)\n",
        "            augmented = aug(image=x, mask=y)\n",
        "            x2 = augmented['image']\n",
        "            y2 = augmented['mask']\n",
        "\n",
        "            aug = GridDistortion(p=1.0)\n",
        "            augmented = aug(image=x, mask=y)\n",
        "            x3 = augmented['image']\n",
        "            y3 = augmented['mask']\n",
        "\n",
        "            aug = HorizontalFlip(p=1.0)\n",
        "            augmented = aug(image=x, mask=y)\n",
        "            x4 = augmented['image']\n",
        "            y4 = augmented['mask']\n",
        "\n",
        "            aug = VerticalFlip(p=1.0)\n",
        "            augmented = aug(image=x, mask=y)\n",
        "            x5 = augmented['image']\n",
        "            y5 = augmented['mask']\n",
        "\n",
        "            save_images = [x, x1, x2, x3, x4, x5]\n",
        "            save_masks =  [y, y1, y2, y3, y4, y5]\n",
        "\n",
        "        else:\n",
        "            save_images = [x]\n",
        "            save_masks = [y]\n",
        "\n",
        "        \"\"\" Saving the image and mask. \"\"\"\n",
        "        idx = 0\n",
        "        for i, m in zip(save_images, save_masks):\n",
        "            i = cv2.resize(i, (W, H))\n",
        "            m = cv2.resize(m, (W, H))\n",
        "\n",
        "            if len(images) == 1:\n",
        "                tmp_img_name = f\"{image_name}.{image_extn}\"\n",
        "                tmp_mask_name = f\"{mask_name}.{mask_extn}\"\n",
        "\n",
        "            else:\n",
        "                tmp_img_name = f\"{image_name}_{idx}.{image_extn}\"\n",
        "                tmp_mask_name = f\"{mask_name}_{idx}.{mask_extn}\"\n",
        "\n",
        "            image_path = os.path.join(save_path, \"images\", tmp_img_name)\n",
        "            mask_path = os.path.join(save_path, \"masks\", tmp_mask_name)\n",
        "\n",
        "            cv2.imwrite(image_path, i)\n",
        "            cv2.imwrite(mask_path, m)\n",
        "\n",
        "            idx += 1"
      ],
      "metadata": {
        "id": "l_PPdj652JV-"
      },
      "execution_count": 3,
      "outputs": []
    },
    {
      "cell_type": "code",
      "source": [
        "images, masks = load_data()\n",
        "save_path = os.path.join(base_dir, 'aum_v2')\n",
        "augment_data(images, masks, save_path, augment=True)"
      ],
      "metadata": {
        "colab": {
          "base_uri": "https://localhost:8080/"
        },
        "id": "R3MkM9ip2JPq",
        "outputId": "c97a3abc-ffb0-4ef3-9807-2ffa8b32e17d"
      },
      "execution_count": 7,
      "outputs": [
        {
          "output_type": "stream",
          "name": "stderr",
          "text": [
            "100%|██████████| 518/518 [01:08<00:00,  7.52it/s]\n"
          ]
        }
      ]
    },
    {
      "cell_type": "code",
      "source": [
        "import tensorflow as tf\n",
        "from tensorflow.keras.preprocessing.image import ImageDataGenerator, array_to_img, img_to_array, load_img\n",
        "import os\n",
        "\n",
        "\n",
        "# Define el nombre de la carpeta donde se guardarán las imágenes generadas\n",
        "output_dir = os.path.join(base_dir, 'augmented_images_v2')\n",
        "\n",
        "# Crea las carpetas si aún no existen\n",
        "if not os.path.exists(os.path.join(output_dir, 'mask')):\n",
        "    os.makedirs(os.path.join(output_dir, 'mask'))\n",
        "if not os.path.exists(os.path.join(output_dir, 'real_img')):\n",
        "    os.makedirs(os.path.join(output_dir, 'real_img'))\n",
        "\n",
        "real_output = os.path.join(output_dir, 'real_img')\n",
        "mask_output = os.path.join(output_dir, 'mask')\n",
        "\n",
        "data_gen_args = dict(rescale=1./255,\n",
        "                     rotation_range=90,\n",
        "                     width_shift_range=0.1,\n",
        "                     height_shift_range=0.1,\n",
        "                     zoom_range=0.2,\n",
        "                     horizontal_flip=True,\n",
        "                     vertical_flip=True,\n",
        "                     fill_mode='reflect')\n",
        "\n",
        "mask_datagen = ImageDataGenerator(**data_gen_args)\n",
        "real_datagen = ImageDataGenerator(**data_gen_args)\n",
        "\n",
        "mask_generator = mask_datagen.flow_from_directory(\n",
        "    os.path.join(base_dir, 'Train_v2/mask'),\n",
        "    target_size=(256, 256),\n",
        "    batch_size=32,\n",
        "    class_mode=None,\n",
        "    seed=42)\n",
        "\n",
        "real_generator = real_datagen.flow_from_directory(\n",
        "    os.path.join(base_dir, 'Train_v2/real_img'),\n",
        "    target_size=(256, 256),\n",
        "    batch_size=32,\n",
        "    class_mode=None,\n",
        "    seed=42)\n",
        "\n",
        "\n",
        "\n",
        "\"\"\"num_images = len(os.listdir(os.path.join(base_dir, 'Train_v2/real_img')))\n",
        "\n",
        "for i in range(num_images):\n",
        "    mask_img = mask_generator.next()[0]\n",
        "    real_img = real_generator.next()[0]\n",
        "\n",
        "    mask_img = array_to_img(mask_img)\n",
        "    real_img = array_to_img(real_img)\n",
        "\n",
        "    mask_img.save(os.path.join(mask_output, f'{i}.png'))\n",
        "    real_img.save(os.path.join(real_output, f'{i}.png'))\"\"\"\n"
      ],
      "metadata": {
        "colab": {
          "base_uri": "https://localhost:8080/",
          "height": 87
        },
        "id": "slNZcQ27pMjz",
        "outputId": "ff267fdd-2c4c-46f9-e228-157e901f912d"
      },
      "execution_count": 8,
      "outputs": [
        {
          "output_type": "stream",
          "name": "stdout",
          "text": [
            "Found 0 images belonging to 0 classes.\n",
            "Found 0 images belonging to 0 classes.\n"
          ]
        },
        {
          "output_type": "execute_result",
          "data": {
            "text/plain": [
              "\"num_images = len(os.listdir(os.path.join(base_dir, 'Train_v2/real_img')))\\n\\nfor i in range(num_images):\\n    mask_img = mask_generator.next()[0]\\n    real_img = real_generator.next()[0]\\n\\n    mask_img = array_to_img(mask_img)\\n    real_img = array_to_img(real_img)\\n\\n    mask_img.save(os.path.join(mask_output, f'{i}.png'))\\n    real_img.save(os.path.join(real_output, f'{i}.png'))\""
            ],
            "application/vnd.google.colaboratory.intrinsic+json": {
              "type": "string"
            }
          },
          "metadata": {},
          "execution_count": 8
        }
      ]
    },
    {
      "cell_type": "code",
      "source": [],
      "metadata": {
        "id": "a-aM8NNBpMeD"
      },
      "execution_count": null,
      "outputs": []
    },
    {
      "cell_type": "code",
      "source": [],
      "metadata": {
        "id": "kXmfzAK4pMa6"
      },
      "execution_count": null,
      "outputs": []
    },
    {
      "cell_type": "code",
      "source": [],
      "metadata": {
        "id": "Ra-2RwC8pMYN"
      },
      "execution_count": null,
      "outputs": []
    },
    {
      "cell_type": "code",
      "source": [],
      "metadata": {
        "id": "HBMG7JdWpMVE"
      },
      "execution_count": null,
      "outputs": []
    },
    {
      "cell_type": "code",
      "source": [],
      "metadata": {
        "id": "biGwRcQnpMR3"
      },
      "execution_count": null,
      "outputs": []
    },
    {
      "cell_type": "code",
      "source": [],
      "metadata": {
        "id": "vi7FQDONpMPP"
      },
      "execution_count": null,
      "outputs": []
    },
    {
      "cell_type": "code",
      "source": [],
      "metadata": {
        "id": "1ixPm65zpMMN"
      },
      "execution_count": null,
      "outputs": []
    },
    {
      "cell_type": "code",
      "source": [],
      "metadata": {
        "id": "ewDhGFi-pMJc"
      },
      "execution_count": null,
      "outputs": []
    },
    {
      "cell_type": "code",
      "source": [],
      "metadata": {
        "id": "LNTCA-KbpMGe"
      },
      "execution_count": null,
      "outputs": []
    },
    {
      "cell_type": "code",
      "source": [
        "import numpy as np\n",
        "import tensorflow as tf\n",
        "from tensorflow.keras.preprocessing.image import ImageDataGenerator\n",
        "from PIL import Image\n",
        "import os\n",
        "\n",
        "\n",
        "# Define el nombre de la carpeta donde se guardarán las imágenes generadas\n",
        "output_dir = os.path.join(base_dir, 'augmented_images')\n",
        "\n",
        "# Crea las carpetas si aún no existen\n",
        "if not os.path.exists(os.path.join(output_dir, 'mask')):\n",
        "    os.makedirs(os.path.join(output_dir, 'mask'))\n",
        "if not os.path.exists(os.path.join(output_dir, 'real_image')):\n",
        "    os.makedirs(os.path.join(output_dir, 'real_image'))\n",
        "\n",
        "# Define un generador de imágenes de entrenamiento para la imagen de máscara y para la imagen real\n",
        "train_datagen_mask = ImageDataGenerator(\n",
        "    rescale=1./255,\n",
        "    rotation_range=20,\n",
        "    width_shift_range=0.1,\n",
        "    height_shift_range=0.1,\n",
        "    shear_range=0.2,\n",
        "    zoom_range=0.2,\n",
        "    horizontal_flip=True,\n",
        "    fill_mode='nearest')\n",
        "\n",
        "train_datagen_real = ImageDataGenerator(\n",
        "    rescale=1./255,\n",
        "    rotation_range=20,\n",
        "    width_shift_range=0.1,\n",
        "    height_shift_range=0.1,\n",
        "    shear_range=0.2,\n",
        "    zoom_range=0.2,\n",
        "    horizontal_flip=True,\n",
        "    fill_mode='nearest')\n",
        "\n",
        "# Carga las imágenes de máscara y de imágenes reales\n",
        "train_generator_mask = train_datagen_mask.flow_from_directory(\n",
        "    os.path.join(base_dir, 'Training/mask'),\n",
        "    target_size=(256, 256),\n",
        "    batch_size=32,\n",
        "    class_mode='binary',\n",
        "    shuffle=True,\n",
        "    seed=42)\n",
        "\n",
        "train_generator_real = train_datagen_real.flow_from_directory(\n",
        "    os.path.join(base_dir, 'Training/real_img'),\n",
        "    target_size=(256, 256),\n",
        "    batch_size=32,\n",
        "    class_mode='binary',\n",
        "    shuffle=True,\n",
        "    seed=42)\n",
        "\n",
        "# Genera las imágenes aumentadas y guárdalas en las carpetas correspondientes\n",
        "num_augmented_images = 10 # número de imágenes aumentadas por cada imagen original\n",
        "\n",
        "for folder in os.listdir(os.path.join(base_dir, 'Training/mask')):\n",
        "    if not os.path.exists(os.path.join(output_dir, 'mask', folder)):\n",
        "        os.makedirs(os.path.join(output_dir, 'mask', folder))\n",
        "    if not os.path.exists(os.path.join(output_dir, 'real_image', folder)):\n",
        "        os.makedirs(os.path.join(output_dir, 'real_image', folder))\n",
        "    \n",
        "    for i in range(num_augmented_images):\n",
        "        batch_mask, batch_real = next(zip(train_generator_mask, train_generator_real))\n",
        "        augmented_images_mask = train_datagen_mask.flow(batch_mask[0], batch_mask[1]).next()[0]\n",
        "        augmented_images_real = train_datagen_real.flow(batch_real[0], batch_real[1]).next()[0]\n",
        "\n",
        "        for j in range(augmented_images_mask.shape[0]):\n",
        "            Image.fromarray((augmented_images_mask[j]*255/np.max(augmented_images_mask[j])).astype('uint8')).save(os.path.join(output_dir, 'mask', folder, 'augmented_' + str(i) + str(j) + '.jpg'))\n",
        "            Image.fromarray((augmented_images_real[j]*255/np.max(augmented_images_real[j])).astype('uint8')).save(os.path.join(output_dir, 'real_image', folder, 'augmented_' + str(i) + str(j) + '.jpg'))\n"
      ],
      "metadata": {
        "colab": {
          "base_uri": "https://localhost:8080/"
        },
        "id": "nQvem852D6Qu",
        "outputId": "5e500c36-7917-4978-93eb-14c03c0e897d"
      },
      "execution_count": null,
      "outputs": [
        {
          "output_type": "stream",
          "name": "stdout",
          "text": [
            "Found 532 images belonging to 4 classes.\n",
            "Found 532 images belonging to 4 classes.\n"
          ]
        }
      ]
    },
    {
      "cell_type": "code",
      "source": [
        "import numpy as np\n",
        "import tensorflow as tf\n",
        "from tensorflow.keras.preprocessing.image import ImageDataGenerator\n",
        "from PIL import Image\n",
        "import os\n",
        "\n",
        "\n",
        "# Define el nombre de la carpeta donde se guardarán las imágenes generadas\n",
        "output_dir = os.path.join(base_dir, 'augmented_images')\n",
        "\n",
        "# Crea las carpetas si aún no existen\n",
        "if not os.path.exists(os.path.join(output_dir, 'mask')):\n",
        "    os.makedirs(os.path.join(output_dir, 'mask'))\n",
        "if not os.path.exists(os.path.join(output_dir, 'real_image')):\n",
        "    os.makedirs(os.path.join(output_dir, 'real_image'))\n",
        "\n",
        "for folder in os.listdir(os.path.join(base_dir, 'Training/mask')):\n",
        "    if not os.path.exists(os.path.join(output_dir, 'mask', folder)):\n",
        "        os.makedirs(os.path.join(output_dir, 'mask', folder))\n",
        "    if not os.path.exists(os.path.join(output_dir, 'real_image', folder)):\n",
        "        os.makedirs(os.path.join(output_dir, 'real_image', folder))\n",
        "\n",
        "# Define un generador de imágenes de entrenamiento para la imagen de máscara y para la imagen real\n",
        "train_datagen_mask = ImageDataGenerator(\n",
        "    rescale=1./255,\n",
        "    rotation_range=20,\n",
        "    width_shift_range=0.1,\n",
        "    height_shift_range=0.1,\n",
        "    shear_range=0.2,\n",
        "    zoom_range=0.2,\n",
        "    horizontal_flip=True,\n",
        "    fill_mode='nearest')\n",
        "\n",
        "train_datagen_real = ImageDataGenerator(\n",
        "    rescale=1./255,\n",
        "    rotation_range=20,\n",
        "    width_shift_range=0.1,\n",
        "    height_shift_range=0.1,\n",
        "    shear_range=0.2,\n",
        "    zoom_range=0.2,\n",
        "    horizontal_flip=True,\n",
        "    fill_mode='nearest')\n",
        "\n",
        "for i in range(1,5):\n",
        "  # Carga las imágenes de máscara y de imágenes reales\n",
        "  train_generator_mask = train_datagen_mask.flow_from_directory(\n",
        "      os.path.join(base_dir, 'Train_v2/mask'),\n",
        "      target_size=(256, 256),\n",
        "      batch_size=32,\n",
        "      class_mode=None,\n",
        "      classes=['mask'],\n",
        "      shuffle=True,\n",
        "      seed=42)\n",
        "\n",
        "  train_generator_real = train_datagen_real.flow_from_directory(\n",
        "      os.path.join(base_dir, 'Train_v2/real_img'),\n",
        "      target_size=(256, 256),\n",
        "      batch_size=32,\n",
        "      class_mode=None,\n",
        "      classes=['real_img'],\n",
        "      shuffle=True,\n",
        "      seed=42)\n",
        "\n",
        "  # Genera las imágenes aumentadas y guárdalas en las carpetas correspondientes\n",
        "  num_augmented_images = 10 # número de imágenes aumentadas por cada imagen original\n",
        "    \n",
        "  for i in range(num_augmented_images):\n",
        "    batch_mask, batch_real = next(zip(train_generator_mask, train_generator_real))\n",
        "    augmented_images_mask = train_datagen_mask.flow(batch_mask[0], batch_mask[1]).next()[0]\n",
        "    augmented_images_real = train_datagen_real.flow(batch_real[0], batch_real[1]).next()[0]\n",
        "\n",
        "    for j in range(augmented_images_mask.shape[0]):\n",
        "      Image.fromarray((augmented_images_mask[j]*255/np.max(augmented_images_mask[j])).astype('uint8')).save(os.path.join(output_dir, 'mask', folder, 'augmented_' + str(i) + str(j) + '.jpg'))\n",
        "      Image.fromarray((augmented_images_real[j]*255/np.max(augmented_images_real[j])).astype('uint8')).save(os.path.join(output_dir, 'real_image', folder, 'augmented_' + str(i) + str(j) + '.jpg'))\n"
      ],
      "metadata": {
        "colab": {
          "base_uri": "https://localhost:8080/",
          "height": 270
        },
        "id": "2ppA28c1B-od",
        "outputId": "6585d3a9-ece8-45f4-a44a-1a18d014f534"
      },
      "execution_count": 28,
      "outputs": [
        {
          "output_type": "stream",
          "name": "stdout",
          "text": [
            "Found 0 images belonging to 1 classes.\n",
            "Found 0 images belonging to 1 classes.\n"
          ]
        },
        {
          "output_type": "error",
          "ename": "IndexError",
          "evalue": "ignored",
          "traceback": [
            "\u001b[0;31m---------------------------------------------------------------------------\u001b[0m",
            "\u001b[0;31mIndexError\u001b[0m                                Traceback (most recent call last)",
            "\u001b[0;32m<ipython-input-28-2e368eff9232>\u001b[0m in \u001b[0;36m<module>\u001b[0;34m\u001b[0m\n\u001b[1;32m     67\u001b[0m   \u001b[0;32mfor\u001b[0m \u001b[0mi\u001b[0m \u001b[0;32min\u001b[0m \u001b[0mrange\u001b[0m\u001b[0;34m(\u001b[0m\u001b[0mnum_augmented_images\u001b[0m\u001b[0;34m)\u001b[0m\u001b[0;34m:\u001b[0m\u001b[0;34m\u001b[0m\u001b[0;34m\u001b[0m\u001b[0m\n\u001b[1;32m     68\u001b[0m     \u001b[0mbatch_mask\u001b[0m\u001b[0;34m,\u001b[0m \u001b[0mbatch_real\u001b[0m \u001b[0;34m=\u001b[0m \u001b[0mnext\u001b[0m\u001b[0;34m(\u001b[0m\u001b[0mzip\u001b[0m\u001b[0;34m(\u001b[0m\u001b[0mtrain_generator_mask\u001b[0m\u001b[0;34m,\u001b[0m \u001b[0mtrain_generator_real\u001b[0m\u001b[0;34m)\u001b[0m\u001b[0;34m)\u001b[0m\u001b[0;34m\u001b[0m\u001b[0;34m\u001b[0m\u001b[0m\n\u001b[0;32m---> 69\u001b[0;31m     \u001b[0maugmented_images_mask\u001b[0m \u001b[0;34m=\u001b[0m \u001b[0mtrain_datagen_mask\u001b[0m\u001b[0;34m.\u001b[0m\u001b[0mflow\u001b[0m\u001b[0;34m(\u001b[0m\u001b[0mbatch_mask\u001b[0m\u001b[0;34m[\u001b[0m\u001b[0;36m0\u001b[0m\u001b[0;34m]\u001b[0m\u001b[0;34m,\u001b[0m \u001b[0mbatch_mask\u001b[0m\u001b[0;34m[\u001b[0m\u001b[0;36m1\u001b[0m\u001b[0;34m]\u001b[0m\u001b[0;34m)\u001b[0m\u001b[0;34m.\u001b[0m\u001b[0mnext\u001b[0m\u001b[0;34m(\u001b[0m\u001b[0;34m)\u001b[0m\u001b[0;34m[\u001b[0m\u001b[0;36m0\u001b[0m\u001b[0;34m]\u001b[0m\u001b[0;34m\u001b[0m\u001b[0;34m\u001b[0m\u001b[0m\n\u001b[0m\u001b[1;32m     70\u001b[0m     \u001b[0maugmented_images_real\u001b[0m \u001b[0;34m=\u001b[0m \u001b[0mtrain_datagen_real\u001b[0m\u001b[0;34m.\u001b[0m\u001b[0mflow\u001b[0m\u001b[0;34m(\u001b[0m\u001b[0mbatch_real\u001b[0m\u001b[0;34m[\u001b[0m\u001b[0;36m0\u001b[0m\u001b[0;34m]\u001b[0m\u001b[0;34m,\u001b[0m \u001b[0mbatch_real\u001b[0m\u001b[0;34m[\u001b[0m\u001b[0;36m1\u001b[0m\u001b[0;34m]\u001b[0m\u001b[0;34m)\u001b[0m\u001b[0;34m.\u001b[0m\u001b[0mnext\u001b[0m\u001b[0;34m(\u001b[0m\u001b[0;34m)\u001b[0m\u001b[0;34m[\u001b[0m\u001b[0;36m0\u001b[0m\u001b[0;34m]\u001b[0m\u001b[0;34m\u001b[0m\u001b[0;34m\u001b[0m\u001b[0m\n\u001b[1;32m     71\u001b[0m \u001b[0;34m\u001b[0m\u001b[0m\n",
            "\u001b[0;31mIndexError\u001b[0m: index 0 is out of bounds for axis 0 with size 0"
          ]
        }
      ]
    },
    {
      "cell_type": "markdown",
      "source": [
        "## **Pruebas adicionales de data augmentation**"
      ],
      "metadata": {
        "id": "1gi_yiahJ608"
      }
    },
    {
      "cell_type": "markdown",
      "source": [
        "PD: No correr, esta en fase de prueba"
      ],
      "metadata": {
        "id": "1CD8bZ9PJ-0H"
      }
    },
    {
      "cell_type": "code",
      "execution_count": null,
      "metadata": {
        "colab": {
          "base_uri": "https://localhost:8080/"
        },
        "id": "XdkDB9O28g75",
        "outputId": "0f8370fb-a6ac-47f3-e00a-e4580c8c5c27"
      },
      "outputs": [
        {
          "output_type": "stream",
          "name": "stdout",
          "text": [
            "Found 532 images belonging to 2 classes.\n"
          ]
        }
      ],
      "source": [
        "import tensorflow as tf\n",
        "from tensorflow.keras.preprocessing.image import ImageDataGenerator\n",
        "from PIL import Image\n",
        "import os\n",
        "\n",
        "# Define el nombre de la carpeta donde se guardarán las imágenes generadas\n",
        "output_dir = os.path.join(base_dir, 'augmented_images')\n",
        "\n",
        "# Crea las carpetas si aún no existen\n",
        "if not os.path.exists(os.path.join(output_dir, 'mask')):\n",
        "    os.makedirs(os.path.join(output_dir, 'mask'))\n",
        "if not os.path.exists(os.path.join(output_dir, 'real_image')):\n",
        "    os.makedirs(os.path.join(output_dir, 'real_image'))\n",
        "\n",
        "# Define un generador de imágenes de entrenamiento para la imagen de máscara\n",
        "train_datagen = ImageDataGenerator(\n",
        "    rescale=1./255,\n",
        "    rotation_range=20,\n",
        "    width_shift_range=0.1,\n",
        "    height_shift_range=0.1,\n",
        "    shear_range=0.2,\n",
        "    zoom_range=0.2,\n",
        "    horizontal_flip=True,\n",
        "    fill_mode='nearest')\n",
        "\n",
        "\n",
        "# Carga las imágenes de máscara y de imágenes reales\n",
        "train_generator = train_datagen.flow_from_directory(\n",
        "       os.path.join(base_dir, 'Training'),\n",
        "        target_size=(256, 256),\n",
        "        batch_size=32,\n",
        "        class_mode='categorical', \n",
        "        classes=['mask', 'real_ima'])"
      ]
    },
    {
      "cell_type": "code",
      "source": [
        "# Define el nombre de la carpeta donde se guardarán las imágenes generadas\n",
        "output_dir = os.path.join(base_dir, 'data_augmentation')\n",
        "\n",
        "# Crea las carpetas si aún no existen\n",
        "if not os.path.exists(os.path.join(output_dir, 'mask')):\n",
        "    os.makedirs(os.path.join(output_dir, 'mask'))\n",
        "if not os.path.exists(os.path.join(output_dir, 'real_image')):\n",
        "    os.makedirs(os.path.join(output_dir, 'real_image'))\n",
        "\n",
        "# Define un generador de imágenes de entrenamiento para ambas carpetas\n",
        "train_datagen = ImageDataGenerator(\n",
        "    rescale=1./255,\n",
        "    rotation_range=20,\n",
        "    width_shift_range=0.1,\n",
        "    height_shift_range=0.1,\n",
        "    shear_range=0.2,\n",
        "    zoom_range=0.2,\n",
        "    horizontal_flip=True,\n",
        "    fill_mode='nearest')\n",
        "\n",
        "# Carga las imágenes de máscara y de imágenes reales\n",
        "train_mask_generator = train_datagen.flow_from_directory(\n",
        "    os.path.join(base_dir, 'Training/mask'),\n",
        "    target_size=(256, 256),\n",
        "    batch_size=32,\n",
        "    class_mode='categorical', \n",
        "    save_to_dir=os.path.join(output_dir, 'mask'),\n",
        "    save_prefix='mask_')\n",
        "\n",
        "train_real_generator = train_datagen.flow_from_directory(\n",
        "    os.path.join(base_dir, 'Training/real_img'),\n",
        "    target_size=(256, 256),\n",
        "    batch_size=32,\n",
        "    class_mode='categorical', \n",
        "    save_to_dir=os.path.join(output_dir, 'real_image'),\n",
        "    save_prefix='real_')\n",
        "\n",
        "# Combina los generadores de ambas carpetas en un solo generador\n",
        "train_generator = zip(train_mask_generator, train_real_generator)\n"
      ],
      "metadata": {
        "colab": {
          "base_uri": "https://localhost:8080/"
        },
        "id": "YUQ_d_uNC0_F",
        "outputId": "f63d0ae9-62b5-4e0b-a3e0-60f079316857"
      },
      "execution_count": null,
      "outputs": [
        {
          "output_type": "stream",
          "name": "stdout",
          "text": [
            "Found 532 images belonging to 4 classes.\n",
            "Found 532 images belonging to 4 classes.\n"
          ]
        }
      ]
    },
    {
      "cell_type": "code",
      "source": [
        "# Generar y guardar imágenes con data augmentation\n",
        "for i, (mask_batch, real_image_batch) in enumerate(train_generator):\n",
        "    # Generar imágenes aumentadas\n",
        "    mask_augmented_images = mask_datagen.flow(\n",
        "        mask_batch[0], batch_size=32, save_to_dir=os.path.join(output_dir, 'mask'), save_prefix='aug_', save_format='png')\n",
        "    real_image_augmented_images = real_image_datagen.flow(\n",
        "        real_image_batch[0], batch_size=32, save_to_dir=os.path.join(output_dir, 'real_image'), save_prefix='aug_', save_format='png')\n",
        "\n",
        "    # Guardar imágenes aumentadas\n",
        "    for j in range(len(mask_batch[0])):\n",
        "        mask_augmented_image = mask_augmented_images[j]\n",
        "        real_image_augmented_image = real_image_augmented_images[j]\n",
        "        mask_orig_image_path = mask_orig_images.filenames[i * 32 + j]\n",
        "        real_image_orig_image_path = real_image_orig_images.filenames[i * 32 + j]\n",
        "        mask_orig_image_name = os.path.basename(mask_orig_image_path)\n",
        "        real_image_orig_image_name = os.path.basename(real_image_orig_image_path)\n",
        "        mask_orig_image_dir = os.path.dirname(mask_orig_image_path)\n",
        "        real_image_orig_image_dir = os.path.dirname(real_image_orig_image_path)\n",
        "\n",
        "        mask_augmented_image_path = os.path.join(\n",
        "            output_dir, 'mask', mask_orig_image_dir, 'aug_' + mask_orig_image_name)\n",
        "        real_image_augmented_image_path = os.path.join(\n",
        "            output_dir, 'real_image', real_image_orig_image_dir, 'aug_' + real_image_orig_image_name)\n",
        "\n",
        "        mask_augmented_image.save(mask_augmented_image_path)\n",
        "        real_image_augmented_image.save(real_image_augmented_image_path)\n",
        "\n",
        "    # Salir del ciclo después de generar y guardar 100 imágenes aumentadas\n",
        "    if i >= 3:\n",
        "        break\n"
      ],
      "metadata": {
        "id": "LuSOp--j9qxl"
      },
      "execution_count": null,
      "outputs": []
    }
  ]
}